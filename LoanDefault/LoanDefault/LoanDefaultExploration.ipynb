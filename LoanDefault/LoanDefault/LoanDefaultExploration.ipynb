{
 "cells": [
  {
   "cell_type": "code",
   "execution_count": 125,
   "id": "initial_id",
   "metadata": {
    "collapsed": true,
    "ExecuteTime": {
     "end_time": "2024-06-02T14:29:41.775945Z",
     "start_time": "2024-06-02T14:29:41.773527Z"
    }
   },
   "outputs": [],
   "source": [
    "#### Dependencies ####\n",
    "import pandas as pd\n",
    "import numpy as np\n",
    "from sklearn.preprocessing import OneHotEncoder"
   ]
  },
  {
   "cell_type": "code",
   "outputs": [],
   "source": [
    "#### Load Data ####\n",
    "train_loan_data = pd.read_csv('Data/train.csv').drop('Id',axis=1)\n",
    "test_loan_data = pd.read_csv('Data/test.csv').drop('Id',axis=1)"
   ],
   "metadata": {
    "collapsed": false,
    "ExecuteTime": {
     "end_time": "2024-06-02T14:29:41.798050Z",
     "start_time": "2024-06-02T14:29:41.778630Z"
    }
   },
   "id": "b752bab45a50aaeb",
   "execution_count": 126
  },
  {
   "cell_type": "code",
   "outputs": [
    {
     "data": {
      "text/plain": "Years in current job\n10+ years    2332\n2 years       705\n3 years       620\n< 1 year      563\n5 years       516\n1 year        504\n4 years       469\n6 years       426\n7 years       396\n8 years       339\n9 years       259\nName: count, dtype: int64"
     },
     "execution_count": 127,
     "metadata": {},
     "output_type": "execute_result"
    }
   ],
   "source": [
    "#### Data Exploration ####\n",
    "train_loan_data.head(20)\n",
    "train_loan_data['Years in current job'].value_counts()"
   ],
   "metadata": {
    "collapsed": false,
    "ExecuteTime": {
     "end_time": "2024-06-02T14:29:41.815483Z",
     "start_time": "2024-06-02T14:29:41.808975Z"
    }
   },
   "id": "1ff5fa836bfc505c",
   "execution_count": 127
  },
  {
   "cell_type": "code",
   "outputs": [
    {
     "name": "stdout",
     "output_type": "stream",
     "text": [
      "----Missing Values in Training Data----\n",
      "Annual Income : 1557\n",
      "Years in current job : 371\n",
      "Months since last delinquent : 4081\n",
      "Bankruptcies : 14\n",
      "Credit Score : 1557\n",
      "----Missing Values in Test Data----\n",
      "Annual Income : 513\n",
      "Years in current job : 86\n",
      "Months since last delinquent : 1358\n",
      "Bankruptcies : 3\n",
      "Credit Score : 513\n"
     ]
    }
   ],
   "source": [
    "#### Report on Missing Values ####\n",
    "def missing_values_report(data,train=False):\n",
    "    features = data.columns\n",
    "    if train :\n",
    "        print('----Missing Values in Training Data----')\n",
    "    else:\n",
    "        print('----Missing Values in Test Data----')\n",
    "    for feature in features:\n",
    "        if data[feature].dtype in ['int64','float64']:\n",
    "            missing_values = data[feature].isnull().sum()\n",
    "            if missing_values > 0:\n",
    "                print(f'{feature} : {missing_values}')\n",
    "        else:\n",
    "            missing_values = data[feature].isnull().sum() + data[data[feature] == \"\"].shape[0]\n",
    "            if missing_values > 0:\n",
    "                print(f'{feature} : {missing_values}')\n",
    "        \n",
    "missing_values_report(train_loan_data,train=True)\n",
    "missing_values_report(test_loan_data)"
   ],
   "metadata": {
    "collapsed": false,
    "ExecuteTime": {
     "end_time": "2024-06-02T14:29:41.836081Z",
     "start_time": "2024-06-02T14:29:41.817051Z"
    }
   },
   "id": "839b4b6a3e0e78f8",
   "execution_count": 128
  },
  {
   "cell_type": "code",
   "outputs": [
    {
     "name": "stderr",
     "output_type": "stream",
     "text": [
      "/tmp/ipykernel_4693/362477840.py:9: FutureWarning: A value is trying to be set on a copy of a DataFrame or Series through chained assignment using an inplace method.\n",
      "The behavior will change in pandas 3.0. This inplace method will never work because the intermediate object on which we are setting values always behaves as a copy.\n",
      "\n",
      "For example, when doing 'df[col].method(value, inplace=True)', try using 'df.method({col: value}, inplace=True)' or df[col] = df[col].method(value) instead, to perform the operation inplace on the original object.\n",
      "\n",
      "\n",
      "  data[feature].fillna(data[feature].dropna().median(),inplace=True)\n"
     ]
    }
   ],
   "source": [
    "#### Filling Missing Values ####\n",
    "### Convert years in current job to numerical values\n",
    "def convert_years_to_numerical(data,feature):\n",
    "    data[feature] = data[feature].str.extract('(\\d+)').astype(float)\n",
    "    return data\n",
    "\n",
    "def fill_with_median(data,features):\n",
    "    for feature in features:\n",
    "        data[feature].fillna(data[feature].dropna().median(),inplace=True)\n",
    "    return data\n",
    "\n",
    "\n",
    "train_loan_data = convert_years_to_numerical(train_loan_data,'Years in current job')\n",
    "test_loan_data = convert_years_to_numerical(test_loan_data,'Years in current job')\n",
    "\n",
    "med_test_loan_data = fill_with_median(test_loan_data,['Annual Income','Years in current job','Months since last delinquent','Bankruptcies','Credit Score'])\n",
    "med_train_loan_data = fill_with_median(train_loan_data,['Annual Income','Years in current job','Months since last delinquent','Bankruptcies','Credit Score'])"
   ],
   "metadata": {
    "collapsed": false,
    "ExecuteTime": {
     "end_time": "2024-06-02T14:29:41.861155Z",
     "start_time": "2024-06-02T14:29:41.838667Z"
    }
   },
   "id": "4f1c350b7b53a245",
   "execution_count": 129
  },
  {
   "cell_type": "code",
   "outputs": [
    {
     "data": {
      "text/plain": "   Home Ownership  Annual Income  Years in current job  Tax Liens  \\\n0        Own Home       482087.0                   6.0        0.0   \n1        Own Home      1025487.0                  10.0        0.0   \n2   Home Mortgage       751412.0                   8.0        0.0   \n3        Own Home       805068.0                   6.0        0.0   \n4            Rent       776264.0                   8.0        0.0   \n5            Rent      1168386.0                   7.0        0.0   \n6   Home Mortgage      1511108.0                  10.0        0.0   \n7            Rent      1040060.0                  10.0        0.0   \n8   Home Mortgage      1168386.0                   5.0        0.0   \n9   Home Mortgage      1168386.0                   1.0        0.0   \n10  Home Mortgage      1168386.0                   1.0        0.0   \n11  Home Mortgage      1828560.0                   4.0        0.0   \n12  Home Mortgage       933432.0                  10.0        0.0   \n13           Rent      2066364.0                  10.0        0.0   \n14       Own Home      2258796.0                   7.0        0.0   \n15           Rent       848464.0                  10.0        0.0   \n16           Rent      1168386.0                   7.0        0.0   \n17  Home Mortgage      3361898.0                   3.0        0.0   \n18  Home Mortgage      1401744.0                   2.0        0.0   \n19           Rent      1020072.0                   2.0        0.0   \n\n    Number of Open Accounts  Years of Credit History  Maximum Open Credit  \\\n0                      11.0                     26.3             685960.0   \n1                      15.0                     15.3            1181730.0   \n2                      11.0                     35.0            1182434.0   \n3                       8.0                     22.5             147400.0   \n4                      13.0                     13.6             385836.0   \n5                      12.0                     14.6             366784.0   \n6                       9.0                     20.3             388124.0   \n7                      13.0                     12.0             330374.0   \n8                      17.0                     15.7                  0.0   \n9                      10.0                     24.6             511302.0   \n10                      7.0                     11.5             256322.0   \n11                     12.0                     17.6             839080.0   \n12                      8.0                     14.0             443608.0   \n13                     11.0                     17.7            1654026.0   \n14                     11.0                     17.7            1602546.0   \n15                      9.0                     18.4             296186.0   \n16                      6.0                     17.8             899492.0   \n17                     14.0                     28.5            1042096.0   \n18                      9.0                     29.0             387222.0   \n19                      6.0                     12.5             199078.0   \n\n    Number of Credit Problems  Months since last delinquent  Bankruptcies  \\\n0                         1.0                          32.0           1.0   \n1                         0.0                          32.0           0.0   \n2                         0.0                          32.0           0.0   \n3                         1.0                          32.0           1.0   \n4                         1.0                          32.0           0.0   \n5                         0.0                          32.0           0.0   \n6                         0.0                          73.0           0.0   \n7                         0.0                          18.0           0.0   \n8                         1.0                          32.0           1.0   \n9                         0.0                           6.0           0.0   \n10                        0.0                          32.0           0.0   \n11                        0.0                          32.0           0.0   \n12                        0.0                          32.0           0.0   \n13                        0.0                          32.0           0.0   \n14                        0.0                          32.0           0.0   \n15                        0.0                          32.0           0.0   \n16                        0.0                          32.0           0.0   \n17                        0.0                          32.0           0.0   \n18                        0.0                          40.0           0.0   \n19                        0.0                          32.0           0.0   \n\n               Purpose        Term  Current Loan Amount  \\\n0   debt consolidation  Short Term           99999999.0   \n1   debt consolidation   Long Term             264968.0   \n2   debt consolidation  Short Term           99999999.0   \n3   debt consolidation  Short Term             121396.0   \n4   debt consolidation  Short Term             125840.0   \n5                other   Long Term             337304.0   \n6    home improvements  Short Term           99999999.0   \n7                other  Short Term             250888.0   \n8    home improvements  Short Term             129734.0   \n9   debt consolidation   Long Term             572880.0   \n10  debt consolidation  Short Term             220858.0   \n11  debt consolidation  Short Term             441100.0   \n12  debt consolidation  Short Term             337766.0   \n13  debt consolidation   Long Term             549780.0   \n14               other  Short Term             185262.0   \n15  debt consolidation  Short Term             145134.0   \n16  debt consolidation   Long Term             313038.0   \n17  debt consolidation   Long Term             498872.0   \n18  debt consolidation   Long Term             553586.0   \n19  debt consolidation  Short Term             309672.0   \n\n    Current Credit Balance  Monthly Debt  Credit Score  Credit Default  \n0                  47386.0        7914.0         749.0               0  \n1                 394972.0       18373.0         737.0               1  \n2                 308389.0       13651.0         742.0               0  \n3                  95855.0       11338.0         694.0               0  \n4                  93309.0        7180.0         719.0               0  \n5                 165680.0       18692.0         731.0               1  \n6                  51623.0        2317.0         745.0               0  \n7                  89015.0       19761.0         705.0               1  \n8                     19.0          17.0         731.0               0  \n9                 205333.0       17613.0         731.0               1  \n10                187492.0       14592.0         731.0               0  \n11                402914.0       15528.0         737.0               0  \n12                315305.0       19446.0         706.0               0  \n13               1037077.0       21869.0         728.0               1  \n14               1374327.0       58352.0         748.0               0  \n15                 41439.0       12939.0         727.0               0  \n16                538346.0       18844.0         731.0               1  \n17                689396.0       52249.0         644.0               1  \n18                201989.0       13434.0         695.0               1  \n19                120517.0       14451.0         712.0               1  ",
      "text/html": "<div>\n<style scoped>\n    .dataframe tbody tr th:only-of-type {\n        vertical-align: middle;\n    }\n\n    .dataframe tbody tr th {\n        vertical-align: top;\n    }\n\n    .dataframe thead th {\n        text-align: right;\n    }\n</style>\n<table border=\"1\" class=\"dataframe\">\n  <thead>\n    <tr style=\"text-align: right;\">\n      <th></th>\n      <th>Home Ownership</th>\n      <th>Annual Income</th>\n      <th>Years in current job</th>\n      <th>Tax Liens</th>\n      <th>Number of Open Accounts</th>\n      <th>Years of Credit History</th>\n      <th>Maximum Open Credit</th>\n      <th>Number of Credit Problems</th>\n      <th>Months since last delinquent</th>\n      <th>Bankruptcies</th>\n      <th>Purpose</th>\n      <th>Term</th>\n      <th>Current Loan Amount</th>\n      <th>Current Credit Balance</th>\n      <th>Monthly Debt</th>\n      <th>Credit Score</th>\n      <th>Credit Default</th>\n    </tr>\n  </thead>\n  <tbody>\n    <tr>\n      <th>0</th>\n      <td>Own Home</td>\n      <td>482087.0</td>\n      <td>6.0</td>\n      <td>0.0</td>\n      <td>11.0</td>\n      <td>26.3</td>\n      <td>685960.0</td>\n      <td>1.0</td>\n      <td>32.0</td>\n      <td>1.0</td>\n      <td>debt consolidation</td>\n      <td>Short Term</td>\n      <td>99999999.0</td>\n      <td>47386.0</td>\n      <td>7914.0</td>\n      <td>749.0</td>\n      <td>0</td>\n    </tr>\n    <tr>\n      <th>1</th>\n      <td>Own Home</td>\n      <td>1025487.0</td>\n      <td>10.0</td>\n      <td>0.0</td>\n      <td>15.0</td>\n      <td>15.3</td>\n      <td>1181730.0</td>\n      <td>0.0</td>\n      <td>32.0</td>\n      <td>0.0</td>\n      <td>debt consolidation</td>\n      <td>Long Term</td>\n      <td>264968.0</td>\n      <td>394972.0</td>\n      <td>18373.0</td>\n      <td>737.0</td>\n      <td>1</td>\n    </tr>\n    <tr>\n      <th>2</th>\n      <td>Home Mortgage</td>\n      <td>751412.0</td>\n      <td>8.0</td>\n      <td>0.0</td>\n      <td>11.0</td>\n      <td>35.0</td>\n      <td>1182434.0</td>\n      <td>0.0</td>\n      <td>32.0</td>\n      <td>0.0</td>\n      <td>debt consolidation</td>\n      <td>Short Term</td>\n      <td>99999999.0</td>\n      <td>308389.0</td>\n      <td>13651.0</td>\n      <td>742.0</td>\n      <td>0</td>\n    </tr>\n    <tr>\n      <th>3</th>\n      <td>Own Home</td>\n      <td>805068.0</td>\n      <td>6.0</td>\n      <td>0.0</td>\n      <td>8.0</td>\n      <td>22.5</td>\n      <td>147400.0</td>\n      <td>1.0</td>\n      <td>32.0</td>\n      <td>1.0</td>\n      <td>debt consolidation</td>\n      <td>Short Term</td>\n      <td>121396.0</td>\n      <td>95855.0</td>\n      <td>11338.0</td>\n      <td>694.0</td>\n      <td>0</td>\n    </tr>\n    <tr>\n      <th>4</th>\n      <td>Rent</td>\n      <td>776264.0</td>\n      <td>8.0</td>\n      <td>0.0</td>\n      <td>13.0</td>\n      <td>13.6</td>\n      <td>385836.0</td>\n      <td>1.0</td>\n      <td>32.0</td>\n      <td>0.0</td>\n      <td>debt consolidation</td>\n      <td>Short Term</td>\n      <td>125840.0</td>\n      <td>93309.0</td>\n      <td>7180.0</td>\n      <td>719.0</td>\n      <td>0</td>\n    </tr>\n    <tr>\n      <th>5</th>\n      <td>Rent</td>\n      <td>1168386.0</td>\n      <td>7.0</td>\n      <td>0.0</td>\n      <td>12.0</td>\n      <td>14.6</td>\n      <td>366784.0</td>\n      <td>0.0</td>\n      <td>32.0</td>\n      <td>0.0</td>\n      <td>other</td>\n      <td>Long Term</td>\n      <td>337304.0</td>\n      <td>165680.0</td>\n      <td>18692.0</td>\n      <td>731.0</td>\n      <td>1</td>\n    </tr>\n    <tr>\n      <th>6</th>\n      <td>Home Mortgage</td>\n      <td>1511108.0</td>\n      <td>10.0</td>\n      <td>0.0</td>\n      <td>9.0</td>\n      <td>20.3</td>\n      <td>388124.0</td>\n      <td>0.0</td>\n      <td>73.0</td>\n      <td>0.0</td>\n      <td>home improvements</td>\n      <td>Short Term</td>\n      <td>99999999.0</td>\n      <td>51623.0</td>\n      <td>2317.0</td>\n      <td>745.0</td>\n      <td>0</td>\n    </tr>\n    <tr>\n      <th>7</th>\n      <td>Rent</td>\n      <td>1040060.0</td>\n      <td>10.0</td>\n      <td>0.0</td>\n      <td>13.0</td>\n      <td>12.0</td>\n      <td>330374.0</td>\n      <td>0.0</td>\n      <td>18.0</td>\n      <td>0.0</td>\n      <td>other</td>\n      <td>Short Term</td>\n      <td>250888.0</td>\n      <td>89015.0</td>\n      <td>19761.0</td>\n      <td>705.0</td>\n      <td>1</td>\n    </tr>\n    <tr>\n      <th>8</th>\n      <td>Home Mortgage</td>\n      <td>1168386.0</td>\n      <td>5.0</td>\n      <td>0.0</td>\n      <td>17.0</td>\n      <td>15.7</td>\n      <td>0.0</td>\n      <td>1.0</td>\n      <td>32.0</td>\n      <td>1.0</td>\n      <td>home improvements</td>\n      <td>Short Term</td>\n      <td>129734.0</td>\n      <td>19.0</td>\n      <td>17.0</td>\n      <td>731.0</td>\n      <td>0</td>\n    </tr>\n    <tr>\n      <th>9</th>\n      <td>Home Mortgage</td>\n      <td>1168386.0</td>\n      <td>1.0</td>\n      <td>0.0</td>\n      <td>10.0</td>\n      <td>24.6</td>\n      <td>511302.0</td>\n      <td>0.0</td>\n      <td>6.0</td>\n      <td>0.0</td>\n      <td>debt consolidation</td>\n      <td>Long Term</td>\n      <td>572880.0</td>\n      <td>205333.0</td>\n      <td>17613.0</td>\n      <td>731.0</td>\n      <td>1</td>\n    </tr>\n    <tr>\n      <th>10</th>\n      <td>Home Mortgage</td>\n      <td>1168386.0</td>\n      <td>1.0</td>\n      <td>0.0</td>\n      <td>7.0</td>\n      <td>11.5</td>\n      <td>256322.0</td>\n      <td>0.0</td>\n      <td>32.0</td>\n      <td>0.0</td>\n      <td>debt consolidation</td>\n      <td>Short Term</td>\n      <td>220858.0</td>\n      <td>187492.0</td>\n      <td>14592.0</td>\n      <td>731.0</td>\n      <td>0</td>\n    </tr>\n    <tr>\n      <th>11</th>\n      <td>Home Mortgage</td>\n      <td>1828560.0</td>\n      <td>4.0</td>\n      <td>0.0</td>\n      <td>12.0</td>\n      <td>17.6</td>\n      <td>839080.0</td>\n      <td>0.0</td>\n      <td>32.0</td>\n      <td>0.0</td>\n      <td>debt consolidation</td>\n      <td>Short Term</td>\n      <td>441100.0</td>\n      <td>402914.0</td>\n      <td>15528.0</td>\n      <td>737.0</td>\n      <td>0</td>\n    </tr>\n    <tr>\n      <th>12</th>\n      <td>Home Mortgage</td>\n      <td>933432.0</td>\n      <td>10.0</td>\n      <td>0.0</td>\n      <td>8.0</td>\n      <td>14.0</td>\n      <td>443608.0</td>\n      <td>0.0</td>\n      <td>32.0</td>\n      <td>0.0</td>\n      <td>debt consolidation</td>\n      <td>Short Term</td>\n      <td>337766.0</td>\n      <td>315305.0</td>\n      <td>19446.0</td>\n      <td>706.0</td>\n      <td>0</td>\n    </tr>\n    <tr>\n      <th>13</th>\n      <td>Rent</td>\n      <td>2066364.0</td>\n      <td>10.0</td>\n      <td>0.0</td>\n      <td>11.0</td>\n      <td>17.7</td>\n      <td>1654026.0</td>\n      <td>0.0</td>\n      <td>32.0</td>\n      <td>0.0</td>\n      <td>debt consolidation</td>\n      <td>Long Term</td>\n      <td>549780.0</td>\n      <td>1037077.0</td>\n      <td>21869.0</td>\n      <td>728.0</td>\n      <td>1</td>\n    </tr>\n    <tr>\n      <th>14</th>\n      <td>Own Home</td>\n      <td>2258796.0</td>\n      <td>7.0</td>\n      <td>0.0</td>\n      <td>11.0</td>\n      <td>17.7</td>\n      <td>1602546.0</td>\n      <td>0.0</td>\n      <td>32.0</td>\n      <td>0.0</td>\n      <td>other</td>\n      <td>Short Term</td>\n      <td>185262.0</td>\n      <td>1374327.0</td>\n      <td>58352.0</td>\n      <td>748.0</td>\n      <td>0</td>\n    </tr>\n    <tr>\n      <th>15</th>\n      <td>Rent</td>\n      <td>848464.0</td>\n      <td>10.0</td>\n      <td>0.0</td>\n      <td>9.0</td>\n      <td>18.4</td>\n      <td>296186.0</td>\n      <td>0.0</td>\n      <td>32.0</td>\n      <td>0.0</td>\n      <td>debt consolidation</td>\n      <td>Short Term</td>\n      <td>145134.0</td>\n      <td>41439.0</td>\n      <td>12939.0</td>\n      <td>727.0</td>\n      <td>0</td>\n    </tr>\n    <tr>\n      <th>16</th>\n      <td>Rent</td>\n      <td>1168386.0</td>\n      <td>7.0</td>\n      <td>0.0</td>\n      <td>6.0</td>\n      <td>17.8</td>\n      <td>899492.0</td>\n      <td>0.0</td>\n      <td>32.0</td>\n      <td>0.0</td>\n      <td>debt consolidation</td>\n      <td>Long Term</td>\n      <td>313038.0</td>\n      <td>538346.0</td>\n      <td>18844.0</td>\n      <td>731.0</td>\n      <td>1</td>\n    </tr>\n    <tr>\n      <th>17</th>\n      <td>Home Mortgage</td>\n      <td>3361898.0</td>\n      <td>3.0</td>\n      <td>0.0</td>\n      <td>14.0</td>\n      <td>28.5</td>\n      <td>1042096.0</td>\n      <td>0.0</td>\n      <td>32.0</td>\n      <td>0.0</td>\n      <td>debt consolidation</td>\n      <td>Long Term</td>\n      <td>498872.0</td>\n      <td>689396.0</td>\n      <td>52249.0</td>\n      <td>644.0</td>\n      <td>1</td>\n    </tr>\n    <tr>\n      <th>18</th>\n      <td>Home Mortgage</td>\n      <td>1401744.0</td>\n      <td>2.0</td>\n      <td>0.0</td>\n      <td>9.0</td>\n      <td>29.0</td>\n      <td>387222.0</td>\n      <td>0.0</td>\n      <td>40.0</td>\n      <td>0.0</td>\n      <td>debt consolidation</td>\n      <td>Long Term</td>\n      <td>553586.0</td>\n      <td>201989.0</td>\n      <td>13434.0</td>\n      <td>695.0</td>\n      <td>1</td>\n    </tr>\n    <tr>\n      <th>19</th>\n      <td>Rent</td>\n      <td>1020072.0</td>\n      <td>2.0</td>\n      <td>0.0</td>\n      <td>6.0</td>\n      <td>12.5</td>\n      <td>199078.0</td>\n      <td>0.0</td>\n      <td>32.0</td>\n      <td>0.0</td>\n      <td>debt consolidation</td>\n      <td>Short Term</td>\n      <td>309672.0</td>\n      <td>120517.0</td>\n      <td>14451.0</td>\n      <td>712.0</td>\n      <td>1</td>\n    </tr>\n  </tbody>\n</table>\n</div>"
     },
     "execution_count": 130,
     "metadata": {},
     "output_type": "execute_result"
    }
   ],
   "source": [
    "med_train_loan_data.head(20)\n",
    "#missing_values_report(med_train_loan_data,train=True)\n",
    "#missing_values_report(med_test_loan_data)"
   ],
   "metadata": {
    "collapsed": false,
    "ExecuteTime": {
     "end_time": "2024-06-02T14:29:41.889228Z",
     "start_time": "2024-06-02T14:29:41.862135Z"
    }
   },
   "id": "5ed79abf7866e40c",
   "execution_count": 130
  },
  {
   "cell_type": "markdown",
   "source": [
    "No more missing values, great !"
   ],
   "metadata": {
    "collapsed": false
   },
   "id": "94125ae600ac0fd6"
  },
  {
   "cell_type": "code",
   "outputs": [
    {
     "data": {
      "text/plain": "array(['Long Term', 'Short Term'], dtype=object)"
     },
     "execution_count": 131,
     "metadata": {},
     "output_type": "execute_result"
    }
   ],
   "source": [
    "#### Encoding categorical variables ####\n",
    "np.unique(med_test_loan_data['Home Ownership'])\n",
    "np.unique(med_test_loan_data['Purpose'])\n",
    "np.unique(med_test_loan_data['Term'])"
   ],
   "metadata": {
    "collapsed": false,
    "ExecuteTime": {
     "end_time": "2024-06-02T14:29:41.896261Z",
     "start_time": "2024-06-02T14:29:41.890587Z"
    }
   },
   "id": "a773e8cf2282d062",
   "execution_count": 131
  },
  {
   "cell_type": "markdown",
   "source": [
    "Ordinal Data, so we're using hot-one encoding"
   ],
   "metadata": {
    "collapsed": false
   },
   "id": "f1878fdd29d43e95"
  },
  {
   "cell_type": "code",
   "outputs": [],
   "source": [
    "from sklearn.preprocessing import OneHotEncoder\n",
    "\n",
    "# Initialize OneHotEncoder\n",
    "ohenc = OneHotEncoder()\n",
    "# Fit and transform the encoder\n",
    "ohenc.fit(med_train_loan_data[['Home Ownership','Purpose','Term']])\n",
    "\n",
    "med_train_pre_encoded= med_train_loan_data.drop(['Home Ownership','Purpose','Term'],axis=1)\n",
    "med_test_pre_encoded = med_test_loan_data.drop(['Home Ownership','Purpose','Term'],axis=1)\n",
    "\n",
    "train_encoded = pd.DataFrame(ohenc.transform(med_train_loan_data[['Home Ownership','Purpose','Term']]).toarray(),columns=ohenc.get_feature_names_out(['Home Ownership','Purpose','Term']))\n",
    "test_encoded = pd.DataFrame(ohenc.transform(med_test_loan_data[['Home Ownership','Purpose','Term']]).toarray(),columns=ohenc.get_feature_names_out(['Home Ownership','Purpose','Term']))\n",
    "\n",
    "med_train_loan_data = pd.concat([med_train_pre_encoded,train_encoded],axis=1)\n",
    "med_test_loan_data = pd.concat([med_test_pre_encoded,test_encoded],axis=1)"
   ],
   "metadata": {
    "collapsed": false,
    "ExecuteTime": {
     "end_time": "2024-06-02T14:29:41.915799Z",
     "start_time": "2024-06-02T14:29:41.897106Z"
    }
   },
   "id": "1205700c1d3a6cd4",
   "execution_count": 132
  },
  {
   "cell_type": "code",
   "outputs": [
    {
     "data": {
      "text/plain": "    Annual Income  Years in current job  Tax Liens  Number of Open Accounts  \\\n0        482087.0                   6.0        0.0                     11.0   \n1       1025487.0                  10.0        0.0                     15.0   \n2        751412.0                   8.0        0.0                     11.0   \n3        805068.0                   6.0        0.0                      8.0   \n4        776264.0                   8.0        0.0                     13.0   \n5       1168386.0                   7.0        0.0                     12.0   \n6       1511108.0                  10.0        0.0                      9.0   \n7       1040060.0                  10.0        0.0                     13.0   \n8       1168386.0                   5.0        0.0                     17.0   \n9       1168386.0                   1.0        0.0                     10.0   \n10      1168386.0                   1.0        0.0                      7.0   \n11      1828560.0                   4.0        0.0                     12.0   \n12       933432.0                  10.0        0.0                      8.0   \n13      2066364.0                  10.0        0.0                     11.0   \n14      2258796.0                   7.0        0.0                     11.0   \n15       848464.0                  10.0        0.0                      9.0   \n16      1168386.0                   7.0        0.0                      6.0   \n17      3361898.0                   3.0        0.0                     14.0   \n18      1401744.0                   2.0        0.0                      9.0   \n19      1020072.0                   2.0        0.0                      6.0   \n\n    Years of Credit History  Maximum Open Credit  Number of Credit Problems  \\\n0                      26.3             685960.0                        1.0   \n1                      15.3            1181730.0                        0.0   \n2                      35.0            1182434.0                        0.0   \n3                      22.5             147400.0                        1.0   \n4                      13.6             385836.0                        1.0   \n5                      14.6             366784.0                        0.0   \n6                      20.3             388124.0                        0.0   \n7                      12.0             330374.0                        0.0   \n8                      15.7                  0.0                        1.0   \n9                      24.6             511302.0                        0.0   \n10                     11.5             256322.0                        0.0   \n11                     17.6             839080.0                        0.0   \n12                     14.0             443608.0                        0.0   \n13                     17.7            1654026.0                        0.0   \n14                     17.7            1602546.0                        0.0   \n15                     18.4             296186.0                        0.0   \n16                     17.8             899492.0                        0.0   \n17                     28.5            1042096.0                        0.0   \n18                     29.0             387222.0                        0.0   \n19                     12.5             199078.0                        0.0   \n\n    Months since last delinquent  Bankruptcies  Current Loan Amount  ...  \\\n0                           32.0           1.0           99999999.0  ...   \n1                           32.0           0.0             264968.0  ...   \n2                           32.0           0.0           99999999.0  ...   \n3                           32.0           1.0             121396.0  ...   \n4                           32.0           0.0             125840.0  ...   \n5                           32.0           0.0             337304.0  ...   \n6                           73.0           0.0           99999999.0  ...   \n7                           18.0           0.0             250888.0  ...   \n8                           32.0           1.0             129734.0  ...   \n9                            6.0           0.0             572880.0  ...   \n10                          32.0           0.0             220858.0  ...   \n11                          32.0           0.0             441100.0  ...   \n12                          32.0           0.0             337766.0  ...   \n13                          32.0           0.0             549780.0  ...   \n14                          32.0           0.0             185262.0  ...   \n15                          32.0           0.0             145134.0  ...   \n16                          32.0           0.0             313038.0  ...   \n17                          32.0           0.0             498872.0  ...   \n18                          40.0           0.0             553586.0  ...   \n19                          32.0           0.0             309672.0  ...   \n\n    Purpose_medical bills  Purpose_moving  Purpose_other  \\\n0                     0.0             0.0            0.0   \n1                     0.0             0.0            0.0   \n2                     0.0             0.0            0.0   \n3                     0.0             0.0            0.0   \n4                     0.0             0.0            0.0   \n5                     0.0             0.0            1.0   \n6                     0.0             0.0            0.0   \n7                     0.0             0.0            1.0   \n8                     0.0             0.0            0.0   \n9                     0.0             0.0            0.0   \n10                    0.0             0.0            0.0   \n11                    0.0             0.0            0.0   \n12                    0.0             0.0            0.0   \n13                    0.0             0.0            0.0   \n14                    0.0             0.0            1.0   \n15                    0.0             0.0            0.0   \n16                    0.0             0.0            0.0   \n17                    0.0             0.0            0.0   \n18                    0.0             0.0            0.0   \n19                    0.0             0.0            0.0   \n\n    Purpose_renewable energy  Purpose_small business  Purpose_take a trip  \\\n0                        0.0                     0.0                  0.0   \n1                        0.0                     0.0                  0.0   \n2                        0.0                     0.0                  0.0   \n3                        0.0                     0.0                  0.0   \n4                        0.0                     0.0                  0.0   \n5                        0.0                     0.0                  0.0   \n6                        0.0                     0.0                  0.0   \n7                        0.0                     0.0                  0.0   \n8                        0.0                     0.0                  0.0   \n9                        0.0                     0.0                  0.0   \n10                       0.0                     0.0                  0.0   \n11                       0.0                     0.0                  0.0   \n12                       0.0                     0.0                  0.0   \n13                       0.0                     0.0                  0.0   \n14                       0.0                     0.0                  0.0   \n15                       0.0                     0.0                  0.0   \n16                       0.0                     0.0                  0.0   \n17                       0.0                     0.0                  0.0   \n18                       0.0                     0.0                  0.0   \n19                       0.0                     0.0                  0.0   \n\n    Purpose_vacation  Purpose_wedding  Term_Long Term  Term_Short Term  \n0                0.0              0.0             0.0              1.0  \n1                0.0              0.0             1.0              0.0  \n2                0.0              0.0             0.0              1.0  \n3                0.0              0.0             0.0              1.0  \n4                0.0              0.0             0.0              1.0  \n5                0.0              0.0             1.0              0.0  \n6                0.0              0.0             0.0              1.0  \n7                0.0              0.0             0.0              1.0  \n8                0.0              0.0             0.0              1.0  \n9                0.0              0.0             1.0              0.0  \n10               0.0              0.0             0.0              1.0  \n11               0.0              0.0             0.0              1.0  \n12               0.0              0.0             0.0              1.0  \n13               0.0              0.0             1.0              0.0  \n14               0.0              0.0             0.0              1.0  \n15               0.0              0.0             0.0              1.0  \n16               0.0              0.0             1.0              0.0  \n17               0.0              0.0             1.0              0.0  \n18               0.0              0.0             1.0              0.0  \n19               0.0              0.0             0.0              1.0  \n\n[20 rows x 35 columns]",
      "text/html": "<div>\n<style scoped>\n    .dataframe tbody tr th:only-of-type {\n        vertical-align: middle;\n    }\n\n    .dataframe tbody tr th {\n        vertical-align: top;\n    }\n\n    .dataframe thead th {\n        text-align: right;\n    }\n</style>\n<table border=\"1\" class=\"dataframe\">\n  <thead>\n    <tr style=\"text-align: right;\">\n      <th></th>\n      <th>Annual Income</th>\n      <th>Years in current job</th>\n      <th>Tax Liens</th>\n      <th>Number of Open Accounts</th>\n      <th>Years of Credit History</th>\n      <th>Maximum Open Credit</th>\n      <th>Number of Credit Problems</th>\n      <th>Months since last delinquent</th>\n      <th>Bankruptcies</th>\n      <th>Current Loan Amount</th>\n      <th>...</th>\n      <th>Purpose_medical bills</th>\n      <th>Purpose_moving</th>\n      <th>Purpose_other</th>\n      <th>Purpose_renewable energy</th>\n      <th>Purpose_small business</th>\n      <th>Purpose_take a trip</th>\n      <th>Purpose_vacation</th>\n      <th>Purpose_wedding</th>\n      <th>Term_Long Term</th>\n      <th>Term_Short Term</th>\n    </tr>\n  </thead>\n  <tbody>\n    <tr>\n      <th>0</th>\n      <td>482087.0</td>\n      <td>6.0</td>\n      <td>0.0</td>\n      <td>11.0</td>\n      <td>26.3</td>\n      <td>685960.0</td>\n      <td>1.0</td>\n      <td>32.0</td>\n      <td>1.0</td>\n      <td>99999999.0</td>\n      <td>...</td>\n      <td>0.0</td>\n      <td>0.0</td>\n      <td>0.0</td>\n      <td>0.0</td>\n      <td>0.0</td>\n      <td>0.0</td>\n      <td>0.0</td>\n      <td>0.0</td>\n      <td>0.0</td>\n      <td>1.0</td>\n    </tr>\n    <tr>\n      <th>1</th>\n      <td>1025487.0</td>\n      <td>10.0</td>\n      <td>0.0</td>\n      <td>15.0</td>\n      <td>15.3</td>\n      <td>1181730.0</td>\n      <td>0.0</td>\n      <td>32.0</td>\n      <td>0.0</td>\n      <td>264968.0</td>\n      <td>...</td>\n      <td>0.0</td>\n      <td>0.0</td>\n      <td>0.0</td>\n      <td>0.0</td>\n      <td>0.0</td>\n      <td>0.0</td>\n      <td>0.0</td>\n      <td>0.0</td>\n      <td>1.0</td>\n      <td>0.0</td>\n    </tr>\n    <tr>\n      <th>2</th>\n      <td>751412.0</td>\n      <td>8.0</td>\n      <td>0.0</td>\n      <td>11.0</td>\n      <td>35.0</td>\n      <td>1182434.0</td>\n      <td>0.0</td>\n      <td>32.0</td>\n      <td>0.0</td>\n      <td>99999999.0</td>\n      <td>...</td>\n      <td>0.0</td>\n      <td>0.0</td>\n      <td>0.0</td>\n      <td>0.0</td>\n      <td>0.0</td>\n      <td>0.0</td>\n      <td>0.0</td>\n      <td>0.0</td>\n      <td>0.0</td>\n      <td>1.0</td>\n    </tr>\n    <tr>\n      <th>3</th>\n      <td>805068.0</td>\n      <td>6.0</td>\n      <td>0.0</td>\n      <td>8.0</td>\n      <td>22.5</td>\n      <td>147400.0</td>\n      <td>1.0</td>\n      <td>32.0</td>\n      <td>1.0</td>\n      <td>121396.0</td>\n      <td>...</td>\n      <td>0.0</td>\n      <td>0.0</td>\n      <td>0.0</td>\n      <td>0.0</td>\n      <td>0.0</td>\n      <td>0.0</td>\n      <td>0.0</td>\n      <td>0.0</td>\n      <td>0.0</td>\n      <td>1.0</td>\n    </tr>\n    <tr>\n      <th>4</th>\n      <td>776264.0</td>\n      <td>8.0</td>\n      <td>0.0</td>\n      <td>13.0</td>\n      <td>13.6</td>\n      <td>385836.0</td>\n      <td>1.0</td>\n      <td>32.0</td>\n      <td>0.0</td>\n      <td>125840.0</td>\n      <td>...</td>\n      <td>0.0</td>\n      <td>0.0</td>\n      <td>0.0</td>\n      <td>0.0</td>\n      <td>0.0</td>\n      <td>0.0</td>\n      <td>0.0</td>\n      <td>0.0</td>\n      <td>0.0</td>\n      <td>1.0</td>\n    </tr>\n    <tr>\n      <th>5</th>\n      <td>1168386.0</td>\n      <td>7.0</td>\n      <td>0.0</td>\n      <td>12.0</td>\n      <td>14.6</td>\n      <td>366784.0</td>\n      <td>0.0</td>\n      <td>32.0</td>\n      <td>0.0</td>\n      <td>337304.0</td>\n      <td>...</td>\n      <td>0.0</td>\n      <td>0.0</td>\n      <td>1.0</td>\n      <td>0.0</td>\n      <td>0.0</td>\n      <td>0.0</td>\n      <td>0.0</td>\n      <td>0.0</td>\n      <td>1.0</td>\n      <td>0.0</td>\n    </tr>\n    <tr>\n      <th>6</th>\n      <td>1511108.0</td>\n      <td>10.0</td>\n      <td>0.0</td>\n      <td>9.0</td>\n      <td>20.3</td>\n      <td>388124.0</td>\n      <td>0.0</td>\n      <td>73.0</td>\n      <td>0.0</td>\n      <td>99999999.0</td>\n      <td>...</td>\n      <td>0.0</td>\n      <td>0.0</td>\n      <td>0.0</td>\n      <td>0.0</td>\n      <td>0.0</td>\n      <td>0.0</td>\n      <td>0.0</td>\n      <td>0.0</td>\n      <td>0.0</td>\n      <td>1.0</td>\n    </tr>\n    <tr>\n      <th>7</th>\n      <td>1040060.0</td>\n      <td>10.0</td>\n      <td>0.0</td>\n      <td>13.0</td>\n      <td>12.0</td>\n      <td>330374.0</td>\n      <td>0.0</td>\n      <td>18.0</td>\n      <td>0.0</td>\n      <td>250888.0</td>\n      <td>...</td>\n      <td>0.0</td>\n      <td>0.0</td>\n      <td>1.0</td>\n      <td>0.0</td>\n      <td>0.0</td>\n      <td>0.0</td>\n      <td>0.0</td>\n      <td>0.0</td>\n      <td>0.0</td>\n      <td>1.0</td>\n    </tr>\n    <tr>\n      <th>8</th>\n      <td>1168386.0</td>\n      <td>5.0</td>\n      <td>0.0</td>\n      <td>17.0</td>\n      <td>15.7</td>\n      <td>0.0</td>\n      <td>1.0</td>\n      <td>32.0</td>\n      <td>1.0</td>\n      <td>129734.0</td>\n      <td>...</td>\n      <td>0.0</td>\n      <td>0.0</td>\n      <td>0.0</td>\n      <td>0.0</td>\n      <td>0.0</td>\n      <td>0.0</td>\n      <td>0.0</td>\n      <td>0.0</td>\n      <td>0.0</td>\n      <td>1.0</td>\n    </tr>\n    <tr>\n      <th>9</th>\n      <td>1168386.0</td>\n      <td>1.0</td>\n      <td>0.0</td>\n      <td>10.0</td>\n      <td>24.6</td>\n      <td>511302.0</td>\n      <td>0.0</td>\n      <td>6.0</td>\n      <td>0.0</td>\n      <td>572880.0</td>\n      <td>...</td>\n      <td>0.0</td>\n      <td>0.0</td>\n      <td>0.0</td>\n      <td>0.0</td>\n      <td>0.0</td>\n      <td>0.0</td>\n      <td>0.0</td>\n      <td>0.0</td>\n      <td>1.0</td>\n      <td>0.0</td>\n    </tr>\n    <tr>\n      <th>10</th>\n      <td>1168386.0</td>\n      <td>1.0</td>\n      <td>0.0</td>\n      <td>7.0</td>\n      <td>11.5</td>\n      <td>256322.0</td>\n      <td>0.0</td>\n      <td>32.0</td>\n      <td>0.0</td>\n      <td>220858.0</td>\n      <td>...</td>\n      <td>0.0</td>\n      <td>0.0</td>\n      <td>0.0</td>\n      <td>0.0</td>\n      <td>0.0</td>\n      <td>0.0</td>\n      <td>0.0</td>\n      <td>0.0</td>\n      <td>0.0</td>\n      <td>1.0</td>\n    </tr>\n    <tr>\n      <th>11</th>\n      <td>1828560.0</td>\n      <td>4.0</td>\n      <td>0.0</td>\n      <td>12.0</td>\n      <td>17.6</td>\n      <td>839080.0</td>\n      <td>0.0</td>\n      <td>32.0</td>\n      <td>0.0</td>\n      <td>441100.0</td>\n      <td>...</td>\n      <td>0.0</td>\n      <td>0.0</td>\n      <td>0.0</td>\n      <td>0.0</td>\n      <td>0.0</td>\n      <td>0.0</td>\n      <td>0.0</td>\n      <td>0.0</td>\n      <td>0.0</td>\n      <td>1.0</td>\n    </tr>\n    <tr>\n      <th>12</th>\n      <td>933432.0</td>\n      <td>10.0</td>\n      <td>0.0</td>\n      <td>8.0</td>\n      <td>14.0</td>\n      <td>443608.0</td>\n      <td>0.0</td>\n      <td>32.0</td>\n      <td>0.0</td>\n      <td>337766.0</td>\n      <td>...</td>\n      <td>0.0</td>\n      <td>0.0</td>\n      <td>0.0</td>\n      <td>0.0</td>\n      <td>0.0</td>\n      <td>0.0</td>\n      <td>0.0</td>\n      <td>0.0</td>\n      <td>0.0</td>\n      <td>1.0</td>\n    </tr>\n    <tr>\n      <th>13</th>\n      <td>2066364.0</td>\n      <td>10.0</td>\n      <td>0.0</td>\n      <td>11.0</td>\n      <td>17.7</td>\n      <td>1654026.0</td>\n      <td>0.0</td>\n      <td>32.0</td>\n      <td>0.0</td>\n      <td>549780.0</td>\n      <td>...</td>\n      <td>0.0</td>\n      <td>0.0</td>\n      <td>0.0</td>\n      <td>0.0</td>\n      <td>0.0</td>\n      <td>0.0</td>\n      <td>0.0</td>\n      <td>0.0</td>\n      <td>1.0</td>\n      <td>0.0</td>\n    </tr>\n    <tr>\n      <th>14</th>\n      <td>2258796.0</td>\n      <td>7.0</td>\n      <td>0.0</td>\n      <td>11.0</td>\n      <td>17.7</td>\n      <td>1602546.0</td>\n      <td>0.0</td>\n      <td>32.0</td>\n      <td>0.0</td>\n      <td>185262.0</td>\n      <td>...</td>\n      <td>0.0</td>\n      <td>0.0</td>\n      <td>1.0</td>\n      <td>0.0</td>\n      <td>0.0</td>\n      <td>0.0</td>\n      <td>0.0</td>\n      <td>0.0</td>\n      <td>0.0</td>\n      <td>1.0</td>\n    </tr>\n    <tr>\n      <th>15</th>\n      <td>848464.0</td>\n      <td>10.0</td>\n      <td>0.0</td>\n      <td>9.0</td>\n      <td>18.4</td>\n      <td>296186.0</td>\n      <td>0.0</td>\n      <td>32.0</td>\n      <td>0.0</td>\n      <td>145134.0</td>\n      <td>...</td>\n      <td>0.0</td>\n      <td>0.0</td>\n      <td>0.0</td>\n      <td>0.0</td>\n      <td>0.0</td>\n      <td>0.0</td>\n      <td>0.0</td>\n      <td>0.0</td>\n      <td>0.0</td>\n      <td>1.0</td>\n    </tr>\n    <tr>\n      <th>16</th>\n      <td>1168386.0</td>\n      <td>7.0</td>\n      <td>0.0</td>\n      <td>6.0</td>\n      <td>17.8</td>\n      <td>899492.0</td>\n      <td>0.0</td>\n      <td>32.0</td>\n      <td>0.0</td>\n      <td>313038.0</td>\n      <td>...</td>\n      <td>0.0</td>\n      <td>0.0</td>\n      <td>0.0</td>\n      <td>0.0</td>\n      <td>0.0</td>\n      <td>0.0</td>\n      <td>0.0</td>\n      <td>0.0</td>\n      <td>1.0</td>\n      <td>0.0</td>\n    </tr>\n    <tr>\n      <th>17</th>\n      <td>3361898.0</td>\n      <td>3.0</td>\n      <td>0.0</td>\n      <td>14.0</td>\n      <td>28.5</td>\n      <td>1042096.0</td>\n      <td>0.0</td>\n      <td>32.0</td>\n      <td>0.0</td>\n      <td>498872.0</td>\n      <td>...</td>\n      <td>0.0</td>\n      <td>0.0</td>\n      <td>0.0</td>\n      <td>0.0</td>\n      <td>0.0</td>\n      <td>0.0</td>\n      <td>0.0</td>\n      <td>0.0</td>\n      <td>1.0</td>\n      <td>0.0</td>\n    </tr>\n    <tr>\n      <th>18</th>\n      <td>1401744.0</td>\n      <td>2.0</td>\n      <td>0.0</td>\n      <td>9.0</td>\n      <td>29.0</td>\n      <td>387222.0</td>\n      <td>0.0</td>\n      <td>40.0</td>\n      <td>0.0</td>\n      <td>553586.0</td>\n      <td>...</td>\n      <td>0.0</td>\n      <td>0.0</td>\n      <td>0.0</td>\n      <td>0.0</td>\n      <td>0.0</td>\n      <td>0.0</td>\n      <td>0.0</td>\n      <td>0.0</td>\n      <td>1.0</td>\n      <td>0.0</td>\n    </tr>\n    <tr>\n      <th>19</th>\n      <td>1020072.0</td>\n      <td>2.0</td>\n      <td>0.0</td>\n      <td>6.0</td>\n      <td>12.5</td>\n      <td>199078.0</td>\n      <td>0.0</td>\n      <td>32.0</td>\n      <td>0.0</td>\n      <td>309672.0</td>\n      <td>...</td>\n      <td>0.0</td>\n      <td>0.0</td>\n      <td>0.0</td>\n      <td>0.0</td>\n      <td>0.0</td>\n      <td>0.0</td>\n      <td>0.0</td>\n      <td>0.0</td>\n      <td>0.0</td>\n      <td>1.0</td>\n    </tr>\n  </tbody>\n</table>\n<p>20 rows × 35 columns</p>\n</div>"
     },
     "execution_count": 133,
     "metadata": {},
     "output_type": "execute_result"
    }
   ],
   "source": [
    "med_train_loan_data.head(20)"
   ],
   "metadata": {
    "collapsed": false,
    "ExecuteTime": {
     "end_time": "2024-06-02T14:29:50.613390Z",
     "start_time": "2024-06-02T14:29:50.577518Z"
    }
   },
   "id": "b3a1137eb2b185a4",
   "execution_count": 133
  }
 ],
 "metadata": {
  "kernelspec": {
   "display_name": "Python 3",
   "language": "python",
   "name": "python3"
  },
  "language_info": {
   "codemirror_mode": {
    "name": "ipython",
    "version": 2
   },
   "file_extension": ".py",
   "mimetype": "text/x-python",
   "name": "python",
   "nbconvert_exporter": "python",
   "pygments_lexer": "ipython2",
   "version": "2.7.6"
  }
 },
 "nbformat": 4,
 "nbformat_minor": 5
}
