{
 "cells": [
  {
   "cell_type": "markdown",
   "source": [
    "# Inspired from Kaggle : AMOL DESHMUKH"
   ],
   "metadata": {
    "collapsed": false
   },
   "id": "885bd301b0405f92"
  },
  {
   "cell_type": "code",
   "source": [
    "#### Dealing with Warnings ####\n",
    "import warnings\n",
    "warnings.filterwarnings('ignore')"
   ],
   "metadata": {
    "collapsed": false,
    "ExecuteTime": {
     "end_time": "2024-06-09T10:07:35.732164Z",
     "start_time": "2024-06-09T10:07:35.729363Z"
    }
   },
   "id": "a3764489b0396405",
   "outputs": [],
   "execution_count": 14
  },
  {
   "cell_type": "code",
   "source": [
    "#### Dependencies ####\n",
    "import numpy as np\n",
    "import pandas as pd\n",
    "from math import ceil\n",
    "from sklearn.pipeline import Pipeline, make_pipeline\n",
    "from sklearn.model_selection import train_test_split\n",
    "from sklearn.preprocessing import StandardScaler, OneHotEncoder\n",
    "from sklearn.compose import ColumnTransformer\n",
    "from sklearn.metrics import classification_report,f1_score,confusion_matrix\n",
    "from time import time\n",
    "from sklearn.linear_model import LogisticRegression\n",
    "from sklearn.naive_bayes import GaussianNB\n",
    "from sklearn.neighbors import KNeighborsClassifier\n",
    "from sklearn.ensemble import RandomForestClassifier\n",
    "from xgboost import XGBClassifier\n",
    "from sklearn.svm import SVC\n",
    "from sklearn.discriminant_analysis import QuadraticDiscriminantAnalysis as QDA,LinearDiscriminantAnalysis as LDA\n",
    "from sklearn.model_selection import StratifiedKFold, cross_val_score"
   ],
   "metadata": {
    "collapsed": false,
    "ExecuteTime": {
     "end_time": "2024-06-09T10:07:35.794914Z",
     "start_time": "2024-06-09T10:07:35.791825Z"
    }
   },
   "id": "8863dc3efbbfcc98",
   "outputs": [],
   "execution_count": 15
  },
  {
   "cell_type": "code",
   "source": [
    "train_loan_data = pd.read_csv('Data/train.csv').drop('Id',axis=1)\n",
    "test_loan_data = pd.read_csv('Data/test.csv').drop('Id',axis=1)"
   ],
   "metadata": {
    "collapsed": false,
    "ExecuteTime": {
     "end_time": "2024-06-09T10:07:35.833930Z",
     "start_time": "2024-06-09T10:07:35.804969Z"
    }
   },
   "id": "7689fd2bb87975e9",
   "outputs": [],
   "execution_count": 16
  },
  {
   "cell_type": "code",
   "source": [
    "train_loan_data.info()"
   ],
   "metadata": {
    "collapsed": false,
    "ExecuteTime": {
     "end_time": "2024-06-09T10:07:35.843963Z",
     "start_time": "2024-06-09T10:07:35.835345Z"
    }
   },
   "id": "6767ded974dac350",
   "outputs": [
    {
     "name": "stdout",
     "output_type": "stream",
     "text": [
      "<class 'pandas.core.frame.DataFrame'>\n",
      "RangeIndex: 7500 entries, 0 to 7499\n",
      "Data columns (total 17 columns):\n",
      " #   Column                        Non-Null Count  Dtype  \n",
      "---  ------                        --------------  -----  \n",
      " 0   Home Ownership                7500 non-null   object \n",
      " 1   Annual Income                 5943 non-null   float64\n",
      " 2   Years in current job          7129 non-null   object \n",
      " 3   Tax Liens                     7500 non-null   float64\n",
      " 4   Number of Open Accounts       7500 non-null   float64\n",
      " 5   Years of Credit History       7500 non-null   float64\n",
      " 6   Maximum Open Credit           7500 non-null   float64\n",
      " 7   Number of Credit Problems     7500 non-null   float64\n",
      " 8   Months since last delinquent  3419 non-null   float64\n",
      " 9   Bankruptcies                  7486 non-null   float64\n",
      " 10  Purpose                       7500 non-null   object \n",
      " 11  Term                          7500 non-null   object \n",
      " 12  Current Loan Amount           7500 non-null   float64\n",
      " 13  Current Credit Balance        7500 non-null   float64\n",
      " 14  Monthly Debt                  7500 non-null   float64\n",
      " 15  Credit Score                  5943 non-null   float64\n",
      " 16  Credit Default                7500 non-null   int64  \n",
      "dtypes: float64(12), int64(1), object(4)\n",
      "memory usage: 996.2+ KB\n"
     ]
    }
   ],
   "execution_count": 17
  },
  {
   "cell_type": "code",
   "source": [
    "#### Report on Missing Values ####\n",
    "def missing_values_report(data,train=False):\n",
    "    features = data.columns\n",
    "    if train :\n",
    "        print('----Missing Values in Training Data----')\n",
    "    else:\n",
    "        print('----Missing Values in Test Data----')\n",
    "    for feature in features:\n",
    "        if data[feature].dtype in ['int64','float64']:\n",
    "            missing_values = data[feature].isnull().sum()\n",
    "            if missing_values > 0:\n",
    "                print(f'{feature} : {missing_values}')\n",
    "        else:\n",
    "            # dealing with str input\n",
    "            missing_values = data[feature].isnull().sum() + data[data[feature] == \"\"].shape[0]\n",
    "            if missing_values > 0:\n",
    "                print(f'{feature} : {missing_values}')\n",
    "        \n",
    "missing_values_report(train_loan_data,train=True)\n",
    "missing_values_report(test_loan_data)"
   ],
   "metadata": {
    "collapsed": false,
    "ExecuteTime": {
     "end_time": "2024-06-09T10:07:35.869446Z",
     "start_time": "2024-06-09T10:07:35.852425Z"
    }
   },
   "id": "3ae39fb5d2bb056e",
   "outputs": [
    {
     "name": "stdout",
     "output_type": "stream",
     "text": [
      "----Missing Values in Training Data----\n",
      "Annual Income : 1557\n",
      "Years in current job : 371\n",
      "Months since last delinquent : 4081\n",
      "Bankruptcies : 14\n",
      "Credit Score : 1557\n",
      "----Missing Values in Test Data----\n",
      "Annual Income : 513\n",
      "Years in current job : 86\n",
      "Months since last delinquent : 1358\n",
      "Bankruptcies : 3\n",
      "Credit Score : 513\n"
     ]
    }
   ],
   "execution_count": 18
  },
  {
   "cell_type": "markdown",
   "source": [
    "# Dealing with missing values :\n",
    "    - Years in current job : if nan then -1, if < 1 year then 0, if 10+ then 10\n",
    "    - Annual Income : if nan then if years in current job != 0 then median income else 0\n",
    "    - Months since last delinquent : if nan then median\n",
    "    - Bankruptcies : if nan then median of people with the same number of credit default\n",
    "    - Credit Score : if nan then median"
   ],
   "metadata": {
    "collapsed": false
   },
   "id": "9a9382a60ae281b3"
  },
  {
   "cell_type": "code",
   "source": [
    "### Years in current job ###\n",
    "train_loan_data['Years in current job'].unique()\n",
    "years_dict = {\n",
    "    '-1' : -1,\n",
    "    '< 1 year' : 0,\n",
    "    '1 year' : 1,\n",
    "    '2 years' : 2,\n",
    "    '3 years' : 3,\n",
    "    '4 years' : 4,\n",
    "    '5 years' : 5,\n",
    "    '6 years' : 6,\n",
    "    '7 years' : 7,\n",
    "    '8 years' : 8,\n",
    "    '9 years' : 9,\n",
    "    '10+ years' : 10,\n",
    "}\n",
    "\n",
    "train_loan_data['Years in current job'] = train_loan_data['Years in current job'].fillna('-1').map(years_dict)\n",
    "test_loan_data['Years in current job'] = test_loan_data['Years in current job'].fillna('-1').map(years_dict)"
   ],
   "metadata": {
    "collapsed": false,
    "ExecuteTime": {
     "end_time": "2024-06-09T10:07:35.914897Z",
     "start_time": "2024-06-09T10:07:35.909094Z"
    }
   },
   "id": "262287cae0e2c8a4",
   "outputs": [],
   "execution_count": 19
  },
  {
   "cell_type": "code",
   "source": [
    "### Annual Income ###\n",
    "train_loan_data['Annual Income'][train_loan_data['Years in current job']==-1] = train_loan_data['Annual Income'][train_loan_data['Years in current job']==-1].fillna(0)\n",
    "income_med = train_loan_data['Annual Income'].dropna().median()\n",
    "train_loan_data['Annual Income'][train_loan_data['Years in current job']!=-1] = train_loan_data['Annual Income'][train_loan_data['Years in current job']!=-1].fillna(income_med)\n",
    "train_loan_data.head()\n",
    "\n",
    "test_loan_data['Annual Income'][test_loan_data['Years in current job']==-1] = test_loan_data['Annual Income'][test_loan_data['Years in current job']==-1].fillna(0)\n",
    "income_med = test_loan_data['Annual Income'].dropna().median()\n",
    "test_loan_data['Annual Income'][test_loan_data['Years in current job']!=-1] = test_loan_data['Annual Income'][test_loan_data['Years in current job']!=-1].fillna(income_med)"
   ],
   "metadata": {
    "collapsed": false,
    "ExecuteTime": {
     "end_time": "2024-06-09T10:07:35.946095Z",
     "start_time": "2024-06-09T10:07:35.935897Z"
    }
   },
   "id": "8b004b6172e92123",
   "outputs": [],
   "execution_count": 20
  },
  {
   "cell_type": "code",
   "source": [
    "### Months Since Last Deliquent ###\n",
    "delinquent_med = train_loan_data['Months since last delinquent'].median()\n",
    "train_loan_data['Months since last delinquent'] = train_loan_data['Months since last delinquent'].fillna(delinquent_med)\n",
    "\n",
    "delinquent_med = test_loan_data['Months since last delinquent'].median()\n",
    "test_loan_data['Months since last delinquent'] = test_loan_data['Months since last delinquent'].fillna(delinquent_med)"
   ],
   "metadata": {
    "collapsed": false,
    "ExecuteTime": {
     "end_time": "2024-06-09T10:07:35.956838Z",
     "start_time": "2024-06-09T10:07:35.952431Z"
    }
   },
   "id": "ee22484f35a0480c",
   "outputs": [],
   "execution_count": 21
  },
  {
   "metadata": {},
   "cell_type": "markdown",
   "source": "",
   "id": "4e586afc3d36ae8d"
  },
  {
   "cell_type": "code",
   "source": "train_loan_data['Number of Credit Problems'].corr(train_loan_data['Bankruptcies'])",
   "metadata": {
    "collapsed": false,
    "ExecuteTime": {
     "end_time": "2024-06-09T10:07:35.995702Z",
     "start_time": "2024-06-09T10:07:35.986512Z"
    }
   },
   "id": "e05cf82f7d678dca",
   "outputs": [
    {
     "data": {
      "text/plain": [
       "0.730750619475721"
      ]
     },
     "execution_count": 22,
     "metadata": {},
     "output_type": "execute_result"
    }
   ],
   "execution_count": 22
  },
  {
   "metadata": {},
   "cell_type": "markdown",
   "source": "High correlation between number of credit pbs and bankruptcies",
   "id": "c4f39a565e74f7f0"
  },
  {
   "metadata": {
    "ExecuteTime": {
     "end_time": "2024-06-09T10:07:36.021433Z",
     "start_time": "2024-06-09T10:07:36.007402Z"
    }
   },
   "cell_type": "code",
   "source": [
    "credit_pbs_to_bankrupt_dict = { i : ceil(train_loan_data['Bankruptcies'].dropna()[train_loan_data['Number of Credit Problems']==i].median()) for i in range(8)}\n",
    "train_loan_data['Bankruptcies'] = train_loan_data['Bankruptcies'].fillna(train_loan_data['Number of Credit Problems'].map(credit_pbs_to_bankrupt_dict))\n",
    "\n",
    "credit_pbs_to_bankrupt_dict = { i : ceil(test_loan_data['Bankruptcies'].dropna()[test_loan_data['Number of Credit Problems']==i].median()) for i in [0,1,2,3,4,5,7]}\n",
    "test_loan_data['Bankruptcies'] = test_loan_data['Bankruptcies'].fillna(test_loan_data['Number of Credit Problems'].map(credit_pbs_to_bankrupt_dict))"
   ],
   "id": "c518ebb92430f4ed",
   "outputs": [],
   "execution_count": 23
  },
  {
   "cell_type": "code",
   "source": [
    "### Credit Score ###\n",
    "credit_med = train_loan_data['Credit Score'].median()\n",
    "train_loan_data['Credit Score'] = train_loan_data['Credit Score'].fillna(credit_med)\n",
    "\n",
    "credit_med = test_loan_data['Credit Score'].median()\n",
    "test_loan_data['Credit Score'] = test_loan_data['Credit Score'].fillna(credit_med)"
   ],
   "metadata": {
    "collapsed": false,
    "ExecuteTime": {
     "end_time": "2024-06-09T10:07:36.032211Z",
     "start_time": "2024-06-09T10:07:36.027095Z"
    }
   },
   "id": "e453d739acf0ec59",
   "outputs": [],
   "execution_count": 24
  },
  {
   "cell_type": "code",
   "source": [
    "### Testing results ###\n",
    "missing_values_report(train_loan_data,True)\n",
    "missing_values_report(test_loan_data)"
   ],
   "metadata": {
    "collapsed": false,
    "ExecuteTime": {
     "end_time": "2024-06-09T10:07:36.063363Z",
     "start_time": "2024-06-09T10:07:36.048564Z"
    }
   },
   "id": "438d52737151735b",
   "outputs": [
    {
     "name": "stdout",
     "output_type": "stream",
     "text": [
      "----Missing Values in Training Data----\n",
      "----Missing Values in Test Data----\n"
     ]
    }
   ],
   "execution_count": 25
  },
  {
   "metadata": {
    "ExecuteTime": {
     "end_time": "2024-06-09T10:07:36.091248Z",
     "start_time": "2024-06-09T10:07:36.078606Z"
    }
   },
   "cell_type": "code",
   "source": "train_loan_data.info()",
   "id": "60f26cdf7bc6d238",
   "outputs": [
    {
     "name": "stdout",
     "output_type": "stream",
     "text": [
      "<class 'pandas.core.frame.DataFrame'>\n",
      "RangeIndex: 7500 entries, 0 to 7499\n",
      "Data columns (total 17 columns):\n",
      " #   Column                        Non-Null Count  Dtype  \n",
      "---  ------                        --------------  -----  \n",
      " 0   Home Ownership                7500 non-null   object \n",
      " 1   Annual Income                 7500 non-null   float64\n",
      " 2   Years in current job          7500 non-null   int64  \n",
      " 3   Tax Liens                     7500 non-null   float64\n",
      " 4   Number of Open Accounts       7500 non-null   float64\n",
      " 5   Years of Credit History       7500 non-null   float64\n",
      " 6   Maximum Open Credit           7500 non-null   float64\n",
      " 7   Number of Credit Problems     7500 non-null   float64\n",
      " 8   Months since last delinquent  7500 non-null   float64\n",
      " 9   Bankruptcies                  7500 non-null   float64\n",
      " 10  Purpose                       7500 non-null   object \n",
      " 11  Term                          7500 non-null   object \n",
      " 12  Current Loan Amount           7500 non-null   float64\n",
      " 13  Current Credit Balance        7500 non-null   float64\n",
      " 14  Monthly Debt                  7500 non-null   float64\n",
      " 15  Credit Score                  7500 non-null   float64\n",
      " 16  Credit Default                7500 non-null   int64  \n",
      "dtypes: float64(12), int64(2), object(3)\n",
      "memory usage: 996.2+ KB\n"
     ]
    }
   ],
   "execution_count": 26
  },
  {
   "metadata": {},
   "cell_type": "markdown",
   "source": [
    "# Categorical Variables encoding\n",
    "    - Nominal variables : Home Ownership, Purpose and Term (dummy encoding)"
   ],
   "id": "cc722f050f5ef4f7"
  },
  {
   "metadata": {
    "ExecuteTime": {
     "end_time": "2024-06-09T10:07:36.108942Z",
     "start_time": "2024-06-09T10:07:36.094525Z"
    }
   },
   "cell_type": "code",
   "source": [
    "#### Train Test Split ####\n",
    "num_features = train_loan_data.drop('Credit Default',axis=1).select_dtypes(include=np.number).columns\n",
    "cat_features = train_loan_data.select_dtypes(include=['object']).columns\n",
    "X = train_loan_data.drop('Credit Default',axis=1)\n",
    "y = train_loan_data['Credit Default']\n",
    "X_train, X_test, y_train, y_test = train_test_split(X, y, test_size=0.3, random_state=1)"
   ],
   "id": "69659f9d0d5c7f28",
   "outputs": [],
   "execution_count": 27
  },
  {
   "metadata": {
    "ExecuteTime": {
     "end_time": "2024-06-09T10:07:36.116397Z",
     "start_time": "2024-06-09T10:07:36.110317Z"
    }
   },
   "cell_type": "code",
   "source": [
    "#### Transformation Pipelines ####\n",
    "numeric_transformer = Pipeline(steps=[\n",
    "    ('scaler',StandardScaler()),\n",
    "    #('pca', PCA(n_components=100))\n",
    "])\n",
    "\n",
    "categorical_transformer = Pipeline(steps=[\n",
    "    ('one_hot', OneHotEncoder(handle_unknown='ignore'))\n",
    "])\n",
    "\n",
    "preprocessor = ColumnTransformer(\n",
    "    transformers=[\n",
    "        ('num', numeric_transformer, num_features),\n",
    "        ('cat', categorical_transformer, cat_features)\n",
    "    ])"
   ],
   "id": "da4adb2acf4d746d",
   "outputs": [],
   "execution_count": 28
  },
  {
   "metadata": {
    "ExecuteTime": {
     "end_time": "2024-06-09T10:07:36.144444Z",
     "start_time": "2024-06-09T10:07:36.139882Z"
    }
   },
   "cell_type": "code",
   "source": [
    "#### Naive Classifier #####\n",
    "### Put everything to 1\n",
    "basic_tp = y_test.value_counts().get(1,1)\n",
    "basic_fn = 0\n",
    "basic_fp = y_test.value_counts().get(1,0)\n",
    "basic_recall = basic_tp / (basic_tp + basic_fn)\n",
    "basic_precision = basic_tp / (basic_tp + basic_fp)\n",
    "basic_f1 = 2 / (1/basic_recall + 1/basic_precision)\n",
    "print(\"Basic Classifier : \",basic_f1)"
   ],
   "id": "1159c4a75a8e8f05",
   "outputs": [
    {
     "name": "stdout",
     "output_type": "stream",
     "text": [
      "Basic Classifier :  0.6666666666666666\n"
     ]
    }
   ],
   "execution_count": 29
  },
  {
   "metadata": {
    "ExecuteTime": {
     "end_time": "2024-06-09T10:07:36.213942Z",
     "start_time": "2024-06-09T10:07:36.155070Z"
    }
   },
   "cell_type": "code",
   "source": [
    "#### Logistic Regression ####\n",
    "pipe = Pipeline(steps=[\n",
    "    ('preprocessor',preprocessor),\n",
    "    ('classifier',LogisticRegression())\n",
    "])\n",
    "\n",
    "model = pipe.fit(X_train,y_train)\n",
    "y_pred = model.predict(X_test)\n",
    "target_names = y_test.unique().astype(str)"
   ],
   "id": "6eead46379302b0d",
   "outputs": [],
   "execution_count": 30
  },
  {
   "metadata": {
    "ExecuteTime": {
     "end_time": "2024-06-09T10:07:36.237640Z",
     "start_time": "2024-06-09T10:07:36.215130Z"
    }
   },
   "cell_type": "code",
   "source": [
    "print(classification_report(y_test, y_pred, target_names=target_names))\n",
    "print(f1_score(y_true=y_test, y_pred=y_pred))\n",
    "print(pd.DataFrame(confusion_matrix(y_true=y_test,y_pred=y_pred)))"
   ],
   "id": "e32706e460916cdf",
   "outputs": [
    {
     "name": "stdout",
     "output_type": "stream",
     "text": [
      "              precision    recall  f1-score   support\n",
      "\n",
      "           0       0.77      0.97      0.86      1613\n",
      "           1       0.79      0.25      0.39       637\n",
      "\n",
      "    accuracy                           0.77      2250\n",
      "   macro avg       0.78      0.61      0.62      2250\n",
      "weighted avg       0.78      0.77      0.72      2250\n",
      "\n",
      "0.38525564803804996\n",
      "      0    1\n",
      "0  1571   42\n",
      "1   475  162\n"
     ]
    }
   ],
   "execution_count": 31
  },
  {
   "metadata": {
    "ExecuteTime": {
     "end_time": "2024-06-09T10:07:36.252089Z",
     "start_time": "2024-06-09T10:07:36.239368Z"
    }
   },
   "cell_type": "code",
   "source": [
    "submission_pred = pd.DataFrame({\n",
    "    'Id' : range(7500,10000),\n",
    "    'Credit Default' : model.predict(test_loan_data)\n",
    "})\n",
    "\n",
    "\n",
    "# Write the DataFrame to a CSV file\n",
    "submission_pred.to_csv('Data/LogRegSubmission.csv', index=False)"
   ],
   "id": "620710dc06d7797e",
   "outputs": [],
   "execution_count": 32
  },
  {
   "metadata": {},
   "cell_type": "markdown",
   "source": "Worst result than Naive Classifier, needs improvments ...",
   "id": "8b770d3b0d1bfb0f"
  },
  {
   "metadata": {
    "ExecuteTime": {
     "end_time": "2024-06-09T10:34:55.529699Z",
     "start_time": "2024-06-09T10:34:47.882305Z"
    }
   },
   "cell_type": "code",
   "source": [
    "#### Trying various models ####\n",
    "results = pd.DataFrame(columns=['Name','f1','f1_test','StdDev(%)','Time(s)'])\n",
    "for model in [\n",
    "    LogisticRegression, \n",
    "    GaussianNB,\n",
    "    KNeighborsClassifier,\n",
    "    SVC,\n",
    "    RandomForestClassifier, \n",
    "    XGBClassifier,\n",
    "    LDA,\n",
    "    QDA\n",
    "]:\n",
    "    pipe = make_pipeline(preprocessor, model())\n",
    "    start_time = time()\n",
    "    kfold = StratifiedKFold(n_splits=4)\n",
    "    scores = cross_val_score(pipe, X_train, y_train, scoring='f1', cv=kfold)\n",
    "    pipe.fit(X_train, y_train)\n",
    "    scores_test = f1_score(y_true=y_test, y_pred=pipe.predict(X_test))\n",
    "    time_mod = time() - start_time\n",
    "    new_row = pd.DataFrame([{\n",
    "        'Name' : model.__name__, \n",
    "        'f1' : round(scores.mean(), 4), \n",
    "        'f1_test' : round(scores_test, 4), \n",
    "        'StdDev(%)' : round(1e2*scores.std(), 2), \n",
    "        'Time(s)': round(time_mod, 2)\n",
    "    }])\n",
    "    results = pd.concat([results,new_row],ignore_index=True)\n",
    "    del pipe\n",
    "    print('Analyzed {}.'.format(model.__name__))\n",
    "print('Done!')\n",
    "\n",
    "results = results.sort_values('f1', ascending=False).reset_index(drop=True)"
   ],
   "id": "42ab6f908862c178",
   "outputs": [
    {
     "name": "stdout",
     "output_type": "stream",
     "text": [
      "Analyzed LogisticRegression.\n",
      "Analyzed GaussianNB.\n",
      "Analyzed KNeighborsClassifier.\n",
      "Analyzed SVC.\n",
      "Analyzed RandomForestClassifier.\n",
      "Analyzed XGBClassifier.\n",
      "Analyzed LinearDiscriminantAnalysis.\n",
      "Analyzed QuadraticDiscriminantAnalysis.\n",
      "Done!\n"
     ]
    }
   ],
   "execution_count": 43
  },
  {
   "metadata": {
    "ExecuteTime": {
     "end_time": "2024-06-09T10:35:00.451410Z",
     "start_time": "2024-06-09T10:35:00.441436Z"
    }
   },
   "cell_type": "code",
   "source": "results",
   "id": "5e0cfb4baeb2dd28",
   "outputs": [
    {
     "data": {
      "text/plain": [
       "                            Name      f1  f1_test  StdDev(%)  Time(s)\n",
       "0                     GaussianNB  0.4864   0.4982       0.89     0.07\n",
       "1                  XGBClassifier  0.4753   0.4813       3.46     0.55\n",
       "2  QuadraticDiscriminantAnalysis  0.4656   0.4746       2.27     0.10\n",
       "3         RandomForestClassifier  0.4304   0.4181       3.46     2.92\n",
       "4           KNeighborsClassifier  0.4230   0.4300       1.80     0.17\n",
       "5             LogisticRegression  0.4017   0.3853       2.64     0.18\n",
       "6     LinearDiscriminantAnalysis  0.3499   0.3363       1.85     0.15\n",
       "7                            SVC  0.3163   0.3095       2.16     3.50"
      ],
      "text/html": [
       "<div>\n",
       "<style scoped>\n",
       "    .dataframe tbody tr th:only-of-type {\n",
       "        vertical-align: middle;\n",
       "    }\n",
       "\n",
       "    .dataframe tbody tr th {\n",
       "        vertical-align: top;\n",
       "    }\n",
       "\n",
       "    .dataframe thead th {\n",
       "        text-align: right;\n",
       "    }\n",
       "</style>\n",
       "<table border=\"1\" class=\"dataframe\">\n",
       "  <thead>\n",
       "    <tr style=\"text-align: right;\">\n",
       "      <th></th>\n",
       "      <th>Name</th>\n",
       "      <th>f1</th>\n",
       "      <th>f1_test</th>\n",
       "      <th>StdDev(%)</th>\n",
       "      <th>Time(s)</th>\n",
       "    </tr>\n",
       "  </thead>\n",
       "  <tbody>\n",
       "    <tr>\n",
       "      <th>0</th>\n",
       "      <td>GaussianNB</td>\n",
       "      <td>0.4864</td>\n",
       "      <td>0.4982</td>\n",
       "      <td>0.89</td>\n",
       "      <td>0.07</td>\n",
       "    </tr>\n",
       "    <tr>\n",
       "      <th>1</th>\n",
       "      <td>XGBClassifier</td>\n",
       "      <td>0.4753</td>\n",
       "      <td>0.4813</td>\n",
       "      <td>3.46</td>\n",
       "      <td>0.55</td>\n",
       "    </tr>\n",
       "    <tr>\n",
       "      <th>2</th>\n",
       "      <td>QuadraticDiscriminantAnalysis</td>\n",
       "      <td>0.4656</td>\n",
       "      <td>0.4746</td>\n",
       "      <td>2.27</td>\n",
       "      <td>0.10</td>\n",
       "    </tr>\n",
       "    <tr>\n",
       "      <th>3</th>\n",
       "      <td>RandomForestClassifier</td>\n",
       "      <td>0.4304</td>\n",
       "      <td>0.4181</td>\n",
       "      <td>3.46</td>\n",
       "      <td>2.92</td>\n",
       "    </tr>\n",
       "    <tr>\n",
       "      <th>4</th>\n",
       "      <td>KNeighborsClassifier</td>\n",
       "      <td>0.4230</td>\n",
       "      <td>0.4300</td>\n",
       "      <td>1.80</td>\n",
       "      <td>0.17</td>\n",
       "    </tr>\n",
       "    <tr>\n",
       "      <th>5</th>\n",
       "      <td>LogisticRegression</td>\n",
       "      <td>0.4017</td>\n",
       "      <td>0.3853</td>\n",
       "      <td>2.64</td>\n",
       "      <td>0.18</td>\n",
       "    </tr>\n",
       "    <tr>\n",
       "      <th>6</th>\n",
       "      <td>LinearDiscriminantAnalysis</td>\n",
       "      <td>0.3499</td>\n",
       "      <td>0.3363</td>\n",
       "      <td>1.85</td>\n",
       "      <td>0.15</td>\n",
       "    </tr>\n",
       "    <tr>\n",
       "      <th>7</th>\n",
       "      <td>SVC</td>\n",
       "      <td>0.3163</td>\n",
       "      <td>0.3095</td>\n",
       "      <td>2.16</td>\n",
       "      <td>3.50</td>\n",
       "    </tr>\n",
       "  </tbody>\n",
       "</table>\n",
       "</div>"
      ]
     },
     "execution_count": 44,
     "metadata": {},
     "output_type": "execute_result"
    }
   ],
   "execution_count": 44
  },
  {
   "metadata": {},
   "cell_type": "markdown",
   "source": "GNB seems to outstand other algorithms",
   "id": "6951877c75113d08"
  },
  {
   "metadata": {
    "ExecuteTime": {
     "end_time": "2024-06-09T10:35:04.759448Z",
     "start_time": "2024-06-09T10:35:04.719709Z"
    }
   },
   "cell_type": "code",
   "source": [
    "#### Trying GaussianNB ####\n",
    "GNB = GaussianNB()\n",
    "pipe = make_pipeline(preprocessor,GNB)\n",
    "pipe.fit(X_train,y_train)\n",
    "preds = pipe.predict(X_test)\n",
    "print(f1_score(y_true=y_test,y_pred=preds))\n",
    "\n",
    "submission_pred = pd.DataFrame({\n",
    "    'Id' : range(7500,10000),\n",
    "    'Credit Default' : pipe.predict(test_loan_data)\n",
    "})\n",
    "\n",
    "\n",
    "# Write the DataFrame to a CSV file\n",
    "submission_pred.to_csv('Data/GNBSubmission.csv', index=False)"
   ],
   "id": "6d926e3b22c6628c",
   "outputs": [
    {
     "name": "stdout",
     "output_type": "stream",
     "text": [
      "0.49817739975698666\n"
     ]
    }
   ],
   "execution_count": 45
  },
  {
   "metadata": {},
   "cell_type": "markdown",
   "source": [
    "# Examination of the f1_score : \n",
    "    - Imbalanced dataset : around 28% of positive cases (q)\n",
    "    - Comparison to random model (flip coin with proba p of positive pred) :\n",
    "        f_1 = 2*q*p / (q+p) which is max for p = 1"
   ],
   "id": "fe6ed9bf91fe7c21"
  },
  {
   "metadata": {
    "ExecuteTime": {
     "end_time": "2024-06-09T10:37:49.183366Z",
     "start_time": "2024-06-09T10:37:49.179741Z"
    }
   },
   "cell_type": "code",
   "source": [
    "q = train_loan_data['Credit Default'].value_counts().get(1,1) / len(train_loan_data)\n",
    "p = 1\n",
    "f1_coin = 2 * q * p / (q + p)\n",
    "print('Share of positive default : ',q)\n",
    "print('Max F1_score with random model : ',f1_coin)"
   ],
   "id": "a14de7ac4a9081a3",
   "outputs": [
    {
     "name": "stdout",
     "output_type": "stream",
     "text": [
      "Share of positive default :  0.28173333333333334\n",
      "Max F1_score with random model :  0.4396130240299594\n"
     ]
    }
   ],
   "execution_count": 49
  }
 ],
 "metadata": {
  "kernelspec": {
   "display_name": "Python 3",
   "language": "python",
   "name": "python3"
  },
  "language_info": {
   "codemirror_mode": {
    "name": "ipython",
    "version": 2
   },
   "file_extension": ".py",
   "mimetype": "text/x-python",
   "name": "python",
   "nbconvert_exporter": "python",
   "pygments_lexer": "ipython2",
   "version": "2.7.6"
  }
 },
 "nbformat": 4,
 "nbformat_minor": 5
}
