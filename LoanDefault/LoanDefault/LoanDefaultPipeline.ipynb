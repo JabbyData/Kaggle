{
 "cells": [
  {
   "cell_type": "markdown",
   "source": [
    "# Inspired from Kaggle : AMOL DESHMUKH"
   ],
   "metadata": {
    "collapsed": false
   },
   "id": "885bd301b0405f92"
  },
  {
   "cell_type": "code",
   "source": [
    "#### Dealing with Warnings ####\n",
    "import warnings\n",
    "warnings.filterwarnings('ignore')"
   ],
   "metadata": {
    "collapsed": false,
    "ExecuteTime": {
     "end_time": "2024-06-04T20:12:40.554469Z",
     "start_time": "2024-06-04T20:12:40.552401Z"
    }
   },
   "id": "a3764489b0396405",
   "outputs": [],
   "execution_count": 117
  },
  {
   "cell_type": "code",
   "source": [
    "#### Dependencies ####\n",
    "import numpy as np\n",
    "import pandas as pd\n",
    "import matplotlib.pyplot as plt\n",
    "import seaborn as sns\n",
    "from math import ceil"
   ],
   "metadata": {
    "collapsed": false,
    "ExecuteTime": {
     "end_time": "2024-06-04T20:12:40.573030Z",
     "start_time": "2024-06-04T20:12:40.570313Z"
    }
   },
   "id": "8863dc3efbbfcc98",
   "outputs": [],
   "execution_count": 118
  },
  {
   "cell_type": "code",
   "source": [
    "train_loan_data = pd.read_csv('Data/train.csv').drop('Id',axis=1)\n",
    "test_loan_data = pd.read_csv('Data/test.csv').drop('Id',axis=1)"
   ],
   "metadata": {
    "collapsed": false,
    "ExecuteTime": {
     "end_time": "2024-06-04T20:12:40.631261Z",
     "start_time": "2024-06-04T20:12:40.597714Z"
    }
   },
   "id": "7689fd2bb87975e9",
   "outputs": [],
   "execution_count": 119
  },
  {
   "cell_type": "code",
   "source": [
    "train_loan_data.info()"
   ],
   "metadata": {
    "collapsed": false,
    "ExecuteTime": {
     "end_time": "2024-06-04T20:12:40.643542Z",
     "start_time": "2024-06-04T20:12:40.632549Z"
    }
   },
   "id": "6767ded974dac350",
   "outputs": [
    {
     "name": "stdout",
     "output_type": "stream",
     "text": [
      "<class 'pandas.core.frame.DataFrame'>\n",
      "RangeIndex: 7500 entries, 0 to 7499\n",
      "Data columns (total 17 columns):\n",
      " #   Column                        Non-Null Count  Dtype  \n",
      "---  ------                        --------------  -----  \n",
      " 0   Home Ownership                7500 non-null   object \n",
      " 1   Annual Income                 5943 non-null   float64\n",
      " 2   Years in current job          7129 non-null   object \n",
      " 3   Tax Liens                     7500 non-null   float64\n",
      " 4   Number of Open Accounts       7500 non-null   float64\n",
      " 5   Years of Credit History       7500 non-null   float64\n",
      " 6   Maximum Open Credit           7500 non-null   float64\n",
      " 7   Number of Credit Problems     7500 non-null   float64\n",
      " 8   Months since last delinquent  3419 non-null   float64\n",
      " 9   Bankruptcies                  7486 non-null   float64\n",
      " 10  Purpose                       7500 non-null   object \n",
      " 11  Term                          7500 non-null   object \n",
      " 12  Current Loan Amount           7500 non-null   float64\n",
      " 13  Current Credit Balance        7500 non-null   float64\n",
      " 14  Monthly Debt                  7500 non-null   float64\n",
      " 15  Credit Score                  5943 non-null   float64\n",
      " 16  Credit Default                7500 non-null   int64  \n",
      "dtypes: float64(12), int64(1), object(4)\n",
      "memory usage: 996.2+ KB\n"
     ]
    }
   ],
   "execution_count": 120
  },
  {
   "cell_type": "code",
   "source": [
    "#### Report on Missing Values ####\n",
    "def missing_values_report(data,train=False):\n",
    "    features = data.columns\n",
    "    if train :\n",
    "        print('----Missing Values in Training Data----')\n",
    "    else:\n",
    "        print('----Missing Values in Test Data----')\n",
    "    for feature in features:\n",
    "        if data[feature].dtype in ['int64','float64']:\n",
    "            missing_values = data[feature].isnull().sum()\n",
    "            if missing_values > 0:\n",
    "                print(f'{feature} : {missing_values}')\n",
    "        else:\n",
    "            # dealing with str input\n",
    "            missing_values = data[feature].isnull().sum() + data[data[feature] == \"\"].shape[0]\n",
    "            if missing_values > 0:\n",
    "                print(f'{feature} : {missing_values}')\n",
    "        \n",
    "missing_values_report(train_loan_data,train=True)\n",
    "missing_values_report(test_loan_data)"
   ],
   "metadata": {
    "collapsed": false,
    "ExecuteTime": {
     "end_time": "2024-06-04T20:12:40.662625Z",
     "start_time": "2024-06-04T20:12:40.644769Z"
    }
   },
   "id": "3ae39fb5d2bb056e",
   "outputs": [
    {
     "name": "stdout",
     "output_type": "stream",
     "text": [
      "----Missing Values in Training Data----\n",
      "Annual Income : 1557\n",
      "Years in current job : 371\n",
      "Months since last delinquent : 4081\n",
      "Bankruptcies : 14\n",
      "Credit Score : 1557\n",
      "----Missing Values in Test Data----\n",
      "Annual Income : 513\n",
      "Years in current job : 86\n",
      "Months since last delinquent : 1358\n",
      "Bankruptcies : 3\n",
      "Credit Score : 513\n"
     ]
    }
   ],
   "execution_count": 121
  },
  {
   "cell_type": "markdown",
   "source": [
    "# Dealing with missing values :\n",
    "    - Years in current job : if nan then -1, if < 1 year then 0, if 10+ then 10\n",
    "    - Annual Income : if nan then if years in current job != 0 then median income else 0\n",
    "    - Months since last delinquent : if nan then median\n",
    "    - Bankruptcies : if nan then median of people with the same number of credit default\n",
    "    - Credit Score : if nan then median"
   ],
   "metadata": {
    "collapsed": false
   },
   "id": "9a9382a60ae281b3"
  },
  {
   "cell_type": "code",
   "source": [
    "### Years in current job ###\n",
    "train_loan_data['Years in current job'].unique()\n",
    "years_dict = {\n",
    "    '-1' : -1,\n",
    "    '< 1 year' : 0,\n",
    "    '1 year' : 1,\n",
    "    '2 years' : 2,\n",
    "    '3 years' : 3,\n",
    "    '4 years' : 4,\n",
    "    '5 years' : 5,\n",
    "    '6 years' : 6,\n",
    "    '7 years' : 7,\n",
    "    '8 years' : 8,\n",
    "    '9 years' : 9,\n",
    "    '10+ years' : 10,\n",
    "}\n",
    "\n",
    "train_loan_data['Years in current job'] = train_loan_data['Years in current job'].fillna('-1').map(years_dict)\n",
    "test_loan_data['Years in current job'] = test_loan_data['Years in current job'].fillna('-1').map(years_dict)"
   ],
   "metadata": {
    "collapsed": false,
    "ExecuteTime": {
     "end_time": "2024-06-04T20:12:40.674123Z",
     "start_time": "2024-06-04T20:12:40.664035Z"
    }
   },
   "id": "262287cae0e2c8a4",
   "outputs": [],
   "execution_count": 122
  },
  {
   "cell_type": "code",
   "source": [
    "### Annual Income ###\n",
    "train_loan_data['Annual Income'][train_loan_data['Years in current job']==-1] = train_loan_data['Annual Income'][train_loan_data['Years in current job']==-1].fillna(0)\n",
    "income_med = train_loan_data['Annual Income'].dropna().median()\n",
    "train_loan_data['Annual Income'][train_loan_data['Years in current job']!=-1] = train_loan_data['Annual Income'][train_loan_data['Years in current job']!=-1].fillna(income_med)\n",
    "train_loan_data.head()\n",
    "\n",
    "test_loan_data['Annual Income'][test_loan_data['Years in current job']==-1] = test_loan_data['Annual Income'][test_loan_data['Years in current job']==-1].fillna(0)\n",
    "income_med = test_loan_data['Annual Income'].dropna().median()\n",
    "test_loan_data['Annual Income'][test_loan_data['Years in current job']!=-1] = test_loan_data['Annual Income'][test_loan_data['Years in current job']!=-1].fillna(income_med)"
   ],
   "metadata": {
    "collapsed": false,
    "ExecuteTime": {
     "end_time": "2024-06-04T20:12:40.689181Z",
     "start_time": "2024-06-04T20:12:40.675196Z"
    }
   },
   "id": "8b004b6172e92123",
   "outputs": [],
   "execution_count": 123
  },
  {
   "cell_type": "code",
   "source": [
    "### Months Since Last Deliquent ###\n",
    "delinquent_med = train_loan_data['Months since last delinquent'].median()\n",
    "train_loan_data['Months since last delinquent'] = train_loan_data['Months since last delinquent'].fillna(delinquent_med)\n",
    "\n",
    "delinquent_med = test_loan_data['Months since last delinquent'].median()\n",
    "test_loan_data['Months since last delinquent'] = test_loan_data['Months since last delinquent'].fillna(delinquent_med)"
   ],
   "metadata": {
    "collapsed": false,
    "ExecuteTime": {
     "end_time": "2024-06-04T20:12:40.696187Z",
     "start_time": "2024-06-04T20:12:40.690544Z"
    }
   },
   "id": "ee22484f35a0480c",
   "outputs": [],
   "execution_count": 124
  },
  {
   "cell_type": "code",
   "source": "train_loan_data['Number of Credit Problems'].corr(train_loan_data['Bankruptcies'])",
   "metadata": {
    "collapsed": false,
    "ExecuteTime": {
     "end_time": "2024-06-04T20:12:40.726859Z",
     "start_time": "2024-06-04T20:12:40.715731Z"
    }
   },
   "id": "e05cf82f7d678dca",
   "outputs": [
    {
     "data": {
      "text/plain": [
       "0.730750619475721"
      ]
     },
     "execution_count": 125,
     "metadata": {},
     "output_type": "execute_result"
    }
   ],
   "execution_count": 125
  },
  {
   "metadata": {},
   "cell_type": "markdown",
   "source": "High correlation between number of credit pbs and bankruptcies",
   "id": "c4f39a565e74f7f0"
  },
  {
   "metadata": {
    "ExecuteTime": {
     "end_time": "2024-06-04T20:12:40.745113Z",
     "start_time": "2024-06-04T20:12:40.731041Z"
    }
   },
   "cell_type": "code",
   "source": [
    "credit_pbs_to_bankrupt_dict = { i : ceil(train_loan_data['Bankruptcies'].dropna()[train_loan_data['Number of Credit Problems']==i].median()) for i in range(8)}\n",
    "train_loan_data['Bankruptcies'] = train_loan_data['Bankruptcies'].fillna(train_loan_data['Number of Credit Problems'].map(credit_pbs_to_bankrupt_dict))\n",
    "\n",
    "credit_pbs_to_bankrupt_dict = { i : ceil(test_loan_data['Bankruptcies'].dropna()[test_loan_data['Number of Credit Problems']==i].median()) for i in [0,1,2,3,4,5,7]}\n",
    "test_loan_data['Bankruptcies'] = test_loan_data['Bankruptcies'].fillna(test_loan_data['Number of Credit Problems'].map(credit_pbs_to_bankrupt_dict))"
   ],
   "id": "c518ebb92430f4ed",
   "outputs": [],
   "execution_count": 126
  },
  {
   "cell_type": "code",
   "source": [
    "### Credit Score ###\n",
    "credit_med = train_loan_data['Credit Score'].median()\n",
    "train_loan_data['Credit Score'] = train_loan_data['Credit Score'].fillna(credit_med)\n",
    "\n",
    "credit_med = test_loan_data['Credit Score'].median()\n",
    "test_loan_data['Credit Score'] = test_loan_data['Credit Score'].fillna(credit_med)"
   ],
   "metadata": {
    "collapsed": false,
    "ExecuteTime": {
     "end_time": "2024-06-04T20:12:40.750868Z",
     "start_time": "2024-06-04T20:12:40.746937Z"
    }
   },
   "id": "e453d739acf0ec59",
   "outputs": [],
   "execution_count": 127
  },
  {
   "cell_type": "code",
   "source": [
    "### Testing results ###\n",
    "missing_values_report(train_loan_data,True)\n",
    "missing_values_report(test_loan_data)"
   ],
   "metadata": {
    "collapsed": false,
    "ExecuteTime": {
     "end_time": "2024-06-04T20:12:48.038447Z",
     "start_time": "2024-06-04T20:12:48.028522Z"
    }
   },
   "id": "438d52737151735b",
   "outputs": [
    {
     "name": "stdout",
     "output_type": "stream",
     "text": [
      "----Missing Values in Training Data----\n",
      "----Missing Values in Test Data----\n"
     ]
    }
   ],
   "execution_count": 129
  },
  {
   "metadata": {},
   "cell_type": "markdown",
   "source": "",
   "id": "a95f97814385a6"
  }
 ],
 "metadata": {
  "kernelspec": {
   "display_name": "Python 3",
   "language": "python",
   "name": "python3"
  },
  "language_info": {
   "codemirror_mode": {
    "name": "ipython",
    "version": 2
   },
   "file_extension": ".py",
   "mimetype": "text/x-python",
   "name": "python",
   "nbconvert_exporter": "python",
   "pygments_lexer": "ipython2",
   "version": "2.7.6"
  }
 },
 "nbformat": 4,
 "nbformat_minor": 5
}
