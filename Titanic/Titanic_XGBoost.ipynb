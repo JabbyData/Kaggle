{
 "cells": [
  {
   "cell_type": "code",
   "execution_count": 195,
   "id": "initial_id",
   "metadata": {
    "collapsed": true,
    "ExecuteTime": {
     "end_time": "2024-04-26T14:36:13.101567342Z",
     "start_time": "2024-04-26T14:36:13.057569264Z"
    }
   },
   "outputs": [],
   "source": [
    "#### Dependencies ####\n",
    "import pandas as pd\n",
    "import numpy as np\n",
    "from sklearn.model_selection import RepeatedStratifiedKFold\n",
    "from sklearn.model_selection import train_test_split\n",
    "from sklearn.preprocessing import StandardScaler\n",
    "from sklearn.model_selection import GridSearchCV\n",
    "from sklearn.ensemble import GradientBoostingClassifier"
   ]
  },
  {
   "cell_type": "code",
   "outputs": [],
   "source": [
    "#### Params ####\n",
    "seed = 42 # for reproducibility"
   ],
   "metadata": {
    "collapsed": false,
    "ExecuteTime": {
     "end_time": "2024-04-26T14:36:13.103707851Z",
     "start_time": "2024-04-26T14:36:13.101920797Z"
    }
   },
   "id": "c13e7418935185e9",
   "execution_count": 196
  },
  {
   "cell_type": "code",
   "outputs": [],
   "source": [
    "#### Loading datasets ####\n",
    "train_set = pd.read_csv('Data/train.csv')\n",
    "test_set = pd.read_csv('Data/test.csv')"
   ],
   "metadata": {
    "collapsed": false,
    "ExecuteTime": {
     "end_time": "2024-04-26T14:36:13.141263638Z",
     "start_time": "2024-04-26T14:36:13.106871281Z"
    }
   },
   "id": "6aeca97c76d6bae",
   "execution_count": 197
  },
  {
   "cell_type": "code",
   "outputs": [],
   "source": [
    "#### Removing useless columns ####\n",
    "def drop(dataset,columns):\n",
    "    return dataset.drop(columns,axis=1)\n",
    "\n",
    "columns_to_drop_train = ['PassengerId','Name','Ticket','Fare','Cabin']\n",
    "train_set = drop(train_set,columns_to_drop_train)\n",
    "\n",
    "columns_to_drop_test = columns_to_drop_train\n",
    "test_set = drop(test_set,columns_to_drop_test)"
   ],
   "metadata": {
    "collapsed": false,
    "ExecuteTime": {
     "end_time": "2024-04-26T14:36:13.141853426Z",
     "start_time": "2024-04-26T14:36:13.127469061Z"
    }
   },
   "id": "caf1e3e0acc005ef",
   "execution_count": 198
  },
  {
   "cell_type": "code",
   "outputs": [
    {
     "name": "stdout",
     "output_type": "stream",
     "text": [
      "<class 'pandas.core.frame.DataFrame'>\n",
      "RangeIndex: 891 entries, 0 to 890\n",
      "Data columns (total 7 columns):\n",
      " #   Column    Non-Null Count  Dtype  \n",
      "---  ------    --------------  -----  \n",
      " 0   Survived  891 non-null    int64  \n",
      " 1   Pclass    891 non-null    int64  \n",
      " 2   Sex       891 non-null    object \n",
      " 3   Age       714 non-null    float64\n",
      " 4   SibSp     891 non-null    int64  \n",
      " 5   Parch     891 non-null    int64  \n",
      " 6   Embarked  889 non-null    object \n",
      "dtypes: float64(1), int64(4), object(2)\n",
      "memory usage: 48.9+ KB\n",
      "<class 'pandas.core.frame.DataFrame'>\n",
      "RangeIndex: 418 entries, 0 to 417\n",
      "Data columns (total 6 columns):\n",
      " #   Column    Non-Null Count  Dtype  \n",
      "---  ------    --------------  -----  \n",
      " 0   Pclass    418 non-null    int64  \n",
      " 1   Sex       418 non-null    object \n",
      " 2   Age       332 non-null    float64\n",
      " 3   SibSp     418 non-null    int64  \n",
      " 4   Parch     418 non-null    int64  \n",
      " 5   Embarked  418 non-null    object \n",
      "dtypes: float64(1), int64(3), object(2)\n",
      "memory usage: 19.7+ KB\n"
     ]
    }
   ],
   "source": [
    "train_set.info()\n",
    "test_set.info()"
   ],
   "metadata": {
    "collapsed": false,
    "ExecuteTime": {
     "end_time": "2024-04-26T14:36:13.144336544Z",
     "start_time": "2024-04-26T14:36:13.127655318Z"
    }
   },
   "id": "ee965ab28f8c4485",
   "execution_count": 199
  },
  {
   "cell_type": "code",
   "outputs": [],
   "source": [
    "#### Handling Missing Values ####\n",
    "### Embarked : Nan values for train_set\n",
    "train_set['Embarked'] = train_set['Embarked'].fillna(train_set.Embarked.mode().item())\n",
    "\n",
    "### Age : Nan values in the training and test sets, let's perform median impute using group of population (sex and class might be enough)\n",
    "train_set['Age'] = train_set.groupby(['Pclass', 'Sex']).Age.transform(lambda x: x.fillna(x.median()))\n",
    "test_set['Age'] = test_set.groupby(['Pclass', 'Sex']).Age.transform(lambda x: x.fillna(x.median()))"
   ],
   "metadata": {
    "collapsed": false,
    "ExecuteTime": {
     "end_time": "2024-04-26T14:36:13.210222833Z",
     "start_time": "2024-04-26T14:36:13.141934936Z"
    }
   },
   "id": "a0fb2dfc1bc4d32",
   "execution_count": 200
  },
  {
   "cell_type": "code",
   "outputs": [],
   "source": [
    "#### Encoding Categorical Variables ####\n",
    "### Label encoding, no specific order\n",
    "def label_encode(dataset,columns):\n",
    "    for column in columns:\n",
    "        dataset[column] = pd.Categorical(dataset[column]).codes\n",
    "    return dataset\n",
    "\n",
    "columns_to_label_encode_train = ['Survived','Sex','Embarked','Parch','SibSp']\n",
    "train_set = label_encode(train_set,columns_to_label_encode_train)\n",
    "columns_to_label_encode_test = columns_to_label_encode_train[1:]\n",
    "test_set = label_encode(test_set,columns_to_label_encode_test)\n",
    "\n",
    "### Ordinal encoding\n",
    "train_set.Pclass -= 1\n",
    "test_set.Pclass -= 1"
   ],
   "metadata": {
    "collapsed": false,
    "ExecuteTime": {
     "end_time": "2024-04-26T14:36:13.210836717Z",
     "start_time": "2024-04-26T14:36:13.171834518Z"
    }
   },
   "id": "d6c2af28864e0e0c",
   "execution_count": 201
  },
  {
   "cell_type": "code",
   "outputs": [
    {
     "data": {
      "text/plain": "    Survived  Pclass  Sex   Age  SibSp  Parch  Embarked\n0          0       2    1  22.0      1      0         2\n1          1       0    0  38.0      1      0         0\n2          1       2    0  26.0      0      0         2\n3          1       0    0  35.0      1      0         2\n4          0       2    1  35.0      0      0         2\n..       ...     ...  ...   ...    ...    ...       ...\n95         0       2    1  25.0      0      0         2\n96         0       0    1  71.0      0      0         0\n97         1       0    1  23.0      0      1         0\n98         1       1    0  34.0      0      1         2\n99         0       1    1  34.0      1      0         2\n\n[100 rows x 7 columns]",
      "text/html": "<div>\n<style scoped>\n    .dataframe tbody tr th:only-of-type {\n        vertical-align: middle;\n    }\n\n    .dataframe tbody tr th {\n        vertical-align: top;\n    }\n\n    .dataframe thead th {\n        text-align: right;\n    }\n</style>\n<table border=\"1\" class=\"dataframe\">\n  <thead>\n    <tr style=\"text-align: right;\">\n      <th></th>\n      <th>Survived</th>\n      <th>Pclass</th>\n      <th>Sex</th>\n      <th>Age</th>\n      <th>SibSp</th>\n      <th>Parch</th>\n      <th>Embarked</th>\n    </tr>\n  </thead>\n  <tbody>\n    <tr>\n      <th>0</th>\n      <td>0</td>\n      <td>2</td>\n      <td>1</td>\n      <td>22.0</td>\n      <td>1</td>\n      <td>0</td>\n      <td>2</td>\n    </tr>\n    <tr>\n      <th>1</th>\n      <td>1</td>\n      <td>0</td>\n      <td>0</td>\n      <td>38.0</td>\n      <td>1</td>\n      <td>0</td>\n      <td>0</td>\n    </tr>\n    <tr>\n      <th>2</th>\n      <td>1</td>\n      <td>2</td>\n      <td>0</td>\n      <td>26.0</td>\n      <td>0</td>\n      <td>0</td>\n      <td>2</td>\n    </tr>\n    <tr>\n      <th>3</th>\n      <td>1</td>\n      <td>0</td>\n      <td>0</td>\n      <td>35.0</td>\n      <td>1</td>\n      <td>0</td>\n      <td>2</td>\n    </tr>\n    <tr>\n      <th>4</th>\n      <td>0</td>\n      <td>2</td>\n      <td>1</td>\n      <td>35.0</td>\n      <td>0</td>\n      <td>0</td>\n      <td>2</td>\n    </tr>\n    <tr>\n      <th>...</th>\n      <td>...</td>\n      <td>...</td>\n      <td>...</td>\n      <td>...</td>\n      <td>...</td>\n      <td>...</td>\n      <td>...</td>\n    </tr>\n    <tr>\n      <th>95</th>\n      <td>0</td>\n      <td>2</td>\n      <td>1</td>\n      <td>25.0</td>\n      <td>0</td>\n      <td>0</td>\n      <td>2</td>\n    </tr>\n    <tr>\n      <th>96</th>\n      <td>0</td>\n      <td>0</td>\n      <td>1</td>\n      <td>71.0</td>\n      <td>0</td>\n      <td>0</td>\n      <td>0</td>\n    </tr>\n    <tr>\n      <th>97</th>\n      <td>1</td>\n      <td>0</td>\n      <td>1</td>\n      <td>23.0</td>\n      <td>0</td>\n      <td>1</td>\n      <td>0</td>\n    </tr>\n    <tr>\n      <th>98</th>\n      <td>1</td>\n      <td>1</td>\n      <td>0</td>\n      <td>34.0</td>\n      <td>0</td>\n      <td>1</td>\n      <td>2</td>\n    </tr>\n    <tr>\n      <th>99</th>\n      <td>0</td>\n      <td>1</td>\n      <td>1</td>\n      <td>34.0</td>\n      <td>1</td>\n      <td>0</td>\n      <td>2</td>\n    </tr>\n  </tbody>\n</table>\n<p>100 rows × 7 columns</p>\n</div>"
     },
     "execution_count": 202,
     "metadata": {},
     "output_type": "execute_result"
    }
   ],
   "source": [
    "### Observing changes\n",
    "train_set.head(100)"
   ],
   "metadata": {
    "collapsed": false,
    "ExecuteTime": {
     "end_time": "2024-04-26T14:36:13.244446158Z",
     "start_time": "2024-04-26T14:36:13.172552360Z"
    }
   },
   "id": "fe5312472393f0d6",
   "execution_count": 202
  },
  {
   "cell_type": "code",
   "outputs": [],
   "source": [
    "#### Scaling data ####\n",
    "def scale_data(dataset, features):\n",
    "    scaler = StandardScaler()\n",
    "    dataset[features] = scaler.fit_transform(dataset[features])\n",
    "    return dataset\n",
    "\n",
    "train_set = scale_data(train_set, [\"Age\"])\n",
    "test_set = scale_data(test_set, [\"Age\"])"
   ],
   "metadata": {
    "collapsed": false,
    "ExecuteTime": {
     "end_time": "2024-04-26T14:36:13.244938447Z",
     "start_time": "2024-04-26T14:36:13.210545033Z"
    }
   },
   "id": "c96ebfbcc4edd90",
   "execution_count": 203
  },
  {
   "cell_type": "code",
   "outputs": [
    {
     "data": {
      "text/plain": "   Survived  Pclass  Sex       Age  SibSp  Parch  Embarked\n0         0       2    1 -0.534891      1      0         2\n1         1       0    0  0.668392      1      0         0\n2         1       2    0 -0.234070      0      0         2\n3         1       0    0  0.442776      1      0         2\n4         0       2    1  0.442776      0      0         2",
      "text/html": "<div>\n<style scoped>\n    .dataframe tbody tr th:only-of-type {\n        vertical-align: middle;\n    }\n\n    .dataframe tbody tr th {\n        vertical-align: top;\n    }\n\n    .dataframe thead th {\n        text-align: right;\n    }\n</style>\n<table border=\"1\" class=\"dataframe\">\n  <thead>\n    <tr style=\"text-align: right;\">\n      <th></th>\n      <th>Survived</th>\n      <th>Pclass</th>\n      <th>Sex</th>\n      <th>Age</th>\n      <th>SibSp</th>\n      <th>Parch</th>\n      <th>Embarked</th>\n    </tr>\n  </thead>\n  <tbody>\n    <tr>\n      <th>0</th>\n      <td>0</td>\n      <td>2</td>\n      <td>1</td>\n      <td>-0.534891</td>\n      <td>1</td>\n      <td>0</td>\n      <td>2</td>\n    </tr>\n    <tr>\n      <th>1</th>\n      <td>1</td>\n      <td>0</td>\n      <td>0</td>\n      <td>0.668392</td>\n      <td>1</td>\n      <td>0</td>\n      <td>0</td>\n    </tr>\n    <tr>\n      <th>2</th>\n      <td>1</td>\n      <td>2</td>\n      <td>0</td>\n      <td>-0.234070</td>\n      <td>0</td>\n      <td>0</td>\n      <td>2</td>\n    </tr>\n    <tr>\n      <th>3</th>\n      <td>1</td>\n      <td>0</td>\n      <td>0</td>\n      <td>0.442776</td>\n      <td>1</td>\n      <td>0</td>\n      <td>2</td>\n    </tr>\n    <tr>\n      <th>4</th>\n      <td>0</td>\n      <td>2</td>\n      <td>1</td>\n      <td>0.442776</td>\n      <td>0</td>\n      <td>0</td>\n      <td>2</td>\n    </tr>\n  </tbody>\n</table>\n</div>"
     },
     "execution_count": 204,
     "metadata": {},
     "output_type": "execute_result"
    }
   ],
   "source": [
    "train_set.head()"
   ],
   "metadata": {
    "collapsed": false,
    "ExecuteTime": {
     "end_time": "2024-04-26T14:36:13.267171821Z",
     "start_time": "2024-04-26T14:36:13.244011783Z"
    }
   },
   "id": "84574692b78c42a0",
   "execution_count": 204
  },
  {
   "cell_type": "code",
   "outputs": [
    {
     "name": "stdout",
     "output_type": "stream",
     "text": [
      "Fitting 9 folds for each of 342 candidates, totalling 3078 fits\n",
      "CV Score: 0.8363385807331996\n",
      "Test score: 0.7982062780269058\n",
      "Best params:\n",
      "{'max_depth': 3, 'max_features': 'sqrt', 'n_estimators': 16, 'random_state': 42, 'warm_start': True}\n"
     ]
    }
   ],
   "source": [
    "#### Model Fitting ####\n",
    "### Working with Stratified KFold to avoid overfitting\n",
    "skf = RepeatedStratifiedKFold(n_splits=3, n_repeats=3, random_state=seed)\n",
    "\n",
    "X = train_set.drop(columns='Survived', axis=1).to_numpy()\n",
    "y = train_set['Survived'].to_numpy()\n",
    "X_submission = test_set.to_numpy()\n",
    "\n",
    "X_train, X_test, y_train, y_test = train_test_split(X, y, test_size=0.25, stratify=y, random_state=seed)\n",
    "\n",
    "### Performing GridSerachCV to find the best hyperparameters\n",
    "param_grid = {'max_depth': range(1,10), \n",
    "              'n_estimators': range(1,20), \n",
    "              'max_features': ['sqrt', 'log2'], \n",
    "              'random_state': [seed], \n",
    "              'warm_start': [True]}\n",
    "\n",
    "### Fitting the model\n",
    "grid = GridSearchCV(GradientBoostingClassifier(), param_grid=param_grid, n_jobs=-1, cv=skf, verbose=1).fit(X_train, y_train)\n",
    "\n",
    "print('CV Score: {}'.format(grid.best_score_))\n",
    "print('Test score:', grid.score(X_test, y_test))\n",
    "print('Best params:\\n{}'.format(grid.best_params_))"
   ],
   "metadata": {
    "collapsed": false,
    "ExecuteTime": {
     "end_time": "2024-04-26T14:36:33.684991249Z",
     "start_time": "2024-04-26T14:36:13.265863669Z"
    }
   },
   "id": "7a93f2d48348038e",
   "execution_count": 205
  },
  {
   "cell_type": "code",
   "outputs": [],
   "source": [
    "### Making predictions\n",
    "predictions = grid.predict(X_submission)\n",
    "pd.DataFrame({'PassengerId': np.arange(892, 1310, 1), 'Survived': predictions}).to_csv('submission.csv', index=0)"
   ],
   "metadata": {
    "collapsed": false,
    "ExecuteTime": {
     "end_time": "2024-04-26T14:36:33.735102686Z",
     "start_time": "2024-04-26T14:36:33.686962899Z"
    }
   },
   "id": "291773a8b4d4a9b",
   "execution_count": 206
  }
 ],
 "metadata": {
  "kernelspec": {
   "display_name": "Python 3",
   "language": "python",
   "name": "python3"
  },
  "language_info": {
   "codemirror_mode": {
    "name": "ipython",
    "version": 2
   },
   "file_extension": ".py",
   "mimetype": "text/x-python",
   "name": "python",
   "nbconvert_exporter": "python",
   "pygments_lexer": "ipython2",
   "version": "2.7.6"
  }
 },
 "nbformat": 4,
 "nbformat_minor": 5
}
